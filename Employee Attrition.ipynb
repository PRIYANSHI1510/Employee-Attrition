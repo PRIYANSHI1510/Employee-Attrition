{
 "cells": [
  {
   "cell_type": "markdown",
   "id": "3e0bc1b8",
   "metadata": {},
   "source": [
    "# Employee  Attrition Analysis\n",
    "#### By Ajay Dhariwal (M13966779) and Priyanshi Singh (M1400289)"
   ]
  },
  {
   "cell_type": "markdown",
   "id": "2e3ca50d",
   "metadata": {},
   "source": [
    "## Problem Statement:\n",
    "\n",
    "A large company employs around 4000 employees. Every year, around 15% of its employees leave the company and need to be replaced with the talent pool available in the job market. The management has contracted an HR analytics firm to understand what factors they should focus on in order to curb attrition.\n",
    "\n",
    "In this project we will analyse the datasets and build various models to best capture employee attrition."
   ]
  },
  {
   "cell_type": "markdown",
   "id": "2ba51e25",
   "metadata": {},
   "source": [
    "# 1. Importing Data and Exploring Data"
   ]
  },
  {
   "cell_type": "code",
   "execution_count": 3,
   "id": "916d8363",
   "metadata": {},
   "outputs": [],
   "source": [
    "#Importing the desired libraries\n",
    "import pandas as pd\n",
    "import numpy as np\n",
    "import seaborn as sns\n",
    "import matplotlib.pyplot as plt\n",
    "import warnings \n",
    "warnings.simplefilter('ignore')\n",
    "import statistics\n",
    "import requests\n",
    "from bs4 import BeautifulSoup\n",
    "import csv\n",
    "from collections import Counter\n",
    "from scipy import stats"
   ]
  },
  {
   "cell_type": "code",
   "execution_count": 5,
   "id": "bc621632",
   "metadata": {},
   "outputs": [],
   "source": [
    "# We will be using the 5 datasets provided. \n",
    "general_data = pd.read_csv(r\"C:\\\\Users\\\\priya\\\\Downloads\\\\general_data.csv\")\n",
    "employee_survey_data = pd.read_csv(r\"C:\\\\Users\\\\priya\\Downloads\\\\employee_survey_data.csv\")\n",
    "manager_survey_data = pd.read_csv(r\"C:\\\\Users\\\\priya\\\\Downloads\\\\manager_survey_data.csv\")\n",
    "in_time = pd.read_csv(r\"C:\\\\Users\\\\priya\\\\Downloads\\\\in_time.csv\")\n",
    "out_time = pd.read_csv(r\"C:\\\\Users\\\\priya\\\\Downloads\\\\out_time.csv\")"
   ]
  },
  {
   "cell_type": "code",
   "execution_count": 6,
   "id": "ff953981",
   "metadata": {},
   "outputs": [
    {
     "data": {
      "text/plain": [
       "((4410, 24), (4410, 4), (4410, 3), (4410, 262), (4410, 262))"
      ]
     },
     "execution_count": 6,
     "metadata": {},
     "output_type": "execute_result"
    }
   ],
   "source": [
    "# Checking the Shape of the datsets \n",
    "general_data.shape, employee_survey_data.shape, manager_survey_data.shape, in_time.shape, out_time.shape"
   ]
  },
  {
   "cell_type": "markdown",
   "id": "7571cec0",
   "metadata": {},
   "source": [
    "From the Shape of all the datasets, we observe data is provided to us for 4,410 Employees. To further confirm this we will check the uniqueness of the general employee dataset"
   ]
  },
  {
   "cell_type": "code",
   "execution_count": 7,
   "id": "2cde7194",
   "metadata": {},
   "outputs": [
    {
     "data": {
      "text/html": [
       "<div>\n",
       "<style scoped>\n",
       "    .dataframe tbody tr th:only-of-type {\n",
       "        vertical-align: middle;\n",
       "    }\n",
       "\n",
       "    .dataframe tbody tr th {\n",
       "        vertical-align: top;\n",
       "    }\n",
       "\n",
       "    .dataframe thead th {\n",
       "        text-align: right;\n",
       "    }\n",
       "</style>\n",
       "<table border=\"1\" class=\"dataframe\">\n",
       "  <thead>\n",
       "    <tr style=\"text-align: right;\">\n",
       "      <th></th>\n",
       "      <th>Age</th>\n",
       "      <th>Attrition</th>\n",
       "      <th>BusinessTravel</th>\n",
       "      <th>Department</th>\n",
       "      <th>DistanceFromHome</th>\n",
       "      <th>Education</th>\n",
       "      <th>EducationField</th>\n",
       "      <th>EmployeeCount</th>\n",
       "      <th>EmployeeID</th>\n",
       "      <th>Gender</th>\n",
       "      <th>...</th>\n",
       "      <th>NumCompaniesWorked</th>\n",
       "      <th>Over18</th>\n",
       "      <th>PercentSalaryHike</th>\n",
       "      <th>StandardHours</th>\n",
       "      <th>StockOptionLevel</th>\n",
       "      <th>TotalWorkingYears</th>\n",
       "      <th>TrainingTimesLastYear</th>\n",
       "      <th>YearsAtCompany</th>\n",
       "      <th>YearsSinceLastPromotion</th>\n",
       "      <th>YearsWithCurrManager</th>\n",
       "    </tr>\n",
       "  </thead>\n",
       "  <tbody>\n",
       "    <tr>\n",
       "      <th>0</th>\n",
       "      <td>51</td>\n",
       "      <td>No</td>\n",
       "      <td>Travel_Rarely</td>\n",
       "      <td>Sales</td>\n",
       "      <td>6</td>\n",
       "      <td>2</td>\n",
       "      <td>Life Sciences</td>\n",
       "      <td>1</td>\n",
       "      <td>1</td>\n",
       "      <td>Female</td>\n",
       "      <td>...</td>\n",
       "      <td>1.0</td>\n",
       "      <td>Y</td>\n",
       "      <td>11</td>\n",
       "      <td>8</td>\n",
       "      <td>0</td>\n",
       "      <td>1.0</td>\n",
       "      <td>6</td>\n",
       "      <td>1</td>\n",
       "      <td>0</td>\n",
       "      <td>0</td>\n",
       "    </tr>\n",
       "    <tr>\n",
       "      <th>1</th>\n",
       "      <td>31</td>\n",
       "      <td>Yes</td>\n",
       "      <td>Travel_Frequently</td>\n",
       "      <td>Research &amp; Development</td>\n",
       "      <td>10</td>\n",
       "      <td>1</td>\n",
       "      <td>Life Sciences</td>\n",
       "      <td>1</td>\n",
       "      <td>2</td>\n",
       "      <td>Female</td>\n",
       "      <td>...</td>\n",
       "      <td>0.0</td>\n",
       "      <td>Y</td>\n",
       "      <td>23</td>\n",
       "      <td>8</td>\n",
       "      <td>1</td>\n",
       "      <td>6.0</td>\n",
       "      <td>3</td>\n",
       "      <td>5</td>\n",
       "      <td>1</td>\n",
       "      <td>4</td>\n",
       "    </tr>\n",
       "  </tbody>\n",
       "</table>\n",
       "<p>2 rows × 24 columns</p>\n",
       "</div>"
      ],
      "text/plain": [
       "   Age Attrition     BusinessTravel              Department  DistanceFromHome  \\\n",
       "0   51        No      Travel_Rarely                   Sales                 6   \n",
       "1   31       Yes  Travel_Frequently  Research & Development                10   \n",
       "\n",
       "   Education EducationField  EmployeeCount  EmployeeID  Gender  ...  \\\n",
       "0          2  Life Sciences              1           1  Female  ...   \n",
       "1          1  Life Sciences              1           2  Female  ...   \n",
       "\n",
       "   NumCompaniesWorked Over18 PercentSalaryHike  StandardHours  \\\n",
       "0                 1.0      Y                11              8   \n",
       "1                 0.0      Y                23              8   \n",
       "\n",
       "   StockOptionLevel TotalWorkingYears  TrainingTimesLastYear  YearsAtCompany  \\\n",
       "0                 0               1.0                      6               1   \n",
       "1                 1               6.0                      3               5   \n",
       "\n",
       "   YearsSinceLastPromotion  YearsWithCurrManager  \n",
       "0                        0                     0  \n",
       "1                        1                     4  \n",
       "\n",
       "[2 rows x 24 columns]"
      ]
     },
     "execution_count": 7,
     "metadata": {},
     "output_type": "execute_result"
    }
   ],
   "source": [
    "general_data.head(2)"
   ]
  },
  {
   "cell_type": "code",
   "execution_count": 8,
   "id": "263f547d",
   "metadata": {},
   "outputs": [
    {
     "data": {
      "text/plain": [
       "4410"
      ]
     },
     "execution_count": 8,
     "metadata": {},
     "output_type": "execute_result"
    }
   ],
   "source": [
    "general_data['EmployeeID'].nunique()"
   ]
  },
  {
   "cell_type": "code",
   "execution_count": 9,
   "id": "5791d306",
   "metadata": {},
   "outputs": [
    {
     "name": "stdout",
     "output_type": "stream",
     "text": [
      "<class 'pandas.core.frame.DataFrame'>\n",
      "RangeIndex: 4410 entries, 0 to 4409\n",
      "Data columns (total 24 columns):\n",
      " #   Column                   Non-Null Count  Dtype  \n",
      "---  ------                   --------------  -----  \n",
      " 0   Age                      4410 non-null   int64  \n",
      " 1   Attrition                4410 non-null   object \n",
      " 2   BusinessTravel           4410 non-null   object \n",
      " 3   Department               4410 non-null   object \n",
      " 4   DistanceFromHome         4410 non-null   int64  \n",
      " 5   Education                4410 non-null   int64  \n",
      " 6   EducationField           4410 non-null   object \n",
      " 7   EmployeeCount            4410 non-null   int64  \n",
      " 8   EmployeeID               4410 non-null   int64  \n",
      " 9   Gender                   4410 non-null   object \n",
      " 10  JobLevel                 4410 non-null   int64  \n",
      " 11  JobRole                  4410 non-null   object \n",
      " 12  MaritalStatus            4410 non-null   object \n",
      " 13  MonthlyIncome            4410 non-null   int64  \n",
      " 14  NumCompaniesWorked       4391 non-null   float64\n",
      " 15  Over18                   4410 non-null   object \n",
      " 16  PercentSalaryHike        4410 non-null   int64  \n",
      " 17  StandardHours            4410 non-null   int64  \n",
      " 18  StockOptionLevel         4410 non-null   int64  \n",
      " 19  TotalWorkingYears        4401 non-null   float64\n",
      " 20  TrainingTimesLastYear    4410 non-null   int64  \n",
      " 21  YearsAtCompany           4410 non-null   int64  \n",
      " 22  YearsSinceLastPromotion  4410 non-null   int64  \n",
      " 23  YearsWithCurrManager     4410 non-null   int64  \n",
      "dtypes: float64(2), int64(14), object(8)\n",
      "memory usage: 827.0+ KB\n"
     ]
    }
   ],
   "source": [
    "# Checking the Structure of the data \n",
    "general_data.info()"
   ]
  },
  {
   "cell_type": "code",
   "execution_count": 10,
   "id": "a79bc50d",
   "metadata": {},
   "outputs": [
    {
     "data": {
      "text/plain": [
       "No     3699\n",
       "Yes     711\n",
       "Name: Attrition, dtype: int64"
      ]
     },
     "execution_count": 10,
     "metadata": {},
     "output_type": "execute_result"
    }
   ],
   "source": [
    "general_data[\"Attrition\"].value_counts()"
   ]
  },
  {
   "cell_type": "markdown",
   "id": "937ddf3e",
   "metadata": {},
   "source": [
    "## Employee Survey Data"
   ]
  },
  {
   "cell_type": "code",
   "execution_count": 11,
   "id": "e48de4e3",
   "metadata": {},
   "outputs": [
    {
     "data": {
      "text/html": [
       "<div>\n",
       "<style scoped>\n",
       "    .dataframe tbody tr th:only-of-type {\n",
       "        vertical-align: middle;\n",
       "    }\n",
       "\n",
       "    .dataframe tbody tr th {\n",
       "        vertical-align: top;\n",
       "    }\n",
       "\n",
       "    .dataframe thead th {\n",
       "        text-align: right;\n",
       "    }\n",
       "</style>\n",
       "<table border=\"1\" class=\"dataframe\">\n",
       "  <thead>\n",
       "    <tr style=\"text-align: right;\">\n",
       "      <th></th>\n",
       "      <th>EmployeeID</th>\n",
       "      <th>EnvironmentSatisfaction</th>\n",
       "      <th>JobSatisfaction</th>\n",
       "      <th>WorkLifeBalance</th>\n",
       "    </tr>\n",
       "  </thead>\n",
       "  <tbody>\n",
       "    <tr>\n",
       "      <th>0</th>\n",
       "      <td>1</td>\n",
       "      <td>3.0</td>\n",
       "      <td>4.0</td>\n",
       "      <td>2.0</td>\n",
       "    </tr>\n",
       "    <tr>\n",
       "      <th>1</th>\n",
       "      <td>2</td>\n",
       "      <td>3.0</td>\n",
       "      <td>2.0</td>\n",
       "      <td>4.0</td>\n",
       "    </tr>\n",
       "    <tr>\n",
       "      <th>2</th>\n",
       "      <td>3</td>\n",
       "      <td>2.0</td>\n",
       "      <td>2.0</td>\n",
       "      <td>1.0</td>\n",
       "    </tr>\n",
       "    <tr>\n",
       "      <th>3</th>\n",
       "      <td>4</td>\n",
       "      <td>4.0</td>\n",
       "      <td>4.0</td>\n",
       "      <td>3.0</td>\n",
       "    </tr>\n",
       "    <tr>\n",
       "      <th>4</th>\n",
       "      <td>5</td>\n",
       "      <td>4.0</td>\n",
       "      <td>1.0</td>\n",
       "      <td>3.0</td>\n",
       "    </tr>\n",
       "  </tbody>\n",
       "</table>\n",
       "</div>"
      ],
      "text/plain": [
       "   EmployeeID  EnvironmentSatisfaction  JobSatisfaction  WorkLifeBalance\n",
       "0           1                      3.0              4.0              2.0\n",
       "1           2                      3.0              2.0              4.0\n",
       "2           3                      2.0              2.0              1.0\n",
       "3           4                      4.0              4.0              3.0\n",
       "4           5                      4.0              1.0              3.0"
      ]
     },
     "execution_count": 11,
     "metadata": {},
     "output_type": "execute_result"
    }
   ],
   "source": [
    "employee_survey_data.head()"
   ]
  },
  {
   "cell_type": "code",
   "execution_count": 12,
   "id": "86dade06",
   "metadata": {},
   "outputs": [
    {
     "data": {
      "text/plain": [
       "4410"
      ]
     },
     "execution_count": 12,
     "metadata": {},
     "output_type": "execute_result"
    }
   ],
   "source": [
    "employee_survey_data['EmployeeID'].nunique()"
   ]
  },
  {
   "cell_type": "markdown",
   "id": "7045d377",
   "metadata": {},
   "source": [
    "Survey data is also unique at employee level ID"
   ]
  },
  {
   "cell_type": "markdown",
   "id": "8f071e4f",
   "metadata": {},
   "source": [
    "# Manager Survey Data"
   ]
  },
  {
   "cell_type": "code",
   "execution_count": 13,
   "id": "92ef36e3",
   "metadata": {},
   "outputs": [
    {
     "data": {
      "text/html": [
       "<div>\n",
       "<style scoped>\n",
       "    .dataframe tbody tr th:only-of-type {\n",
       "        vertical-align: middle;\n",
       "    }\n",
       "\n",
       "    .dataframe tbody tr th {\n",
       "        vertical-align: top;\n",
       "    }\n",
       "\n",
       "    .dataframe thead th {\n",
       "        text-align: right;\n",
       "    }\n",
       "</style>\n",
       "<table border=\"1\" class=\"dataframe\">\n",
       "  <thead>\n",
       "    <tr style=\"text-align: right;\">\n",
       "      <th></th>\n",
       "      <th>EmployeeID</th>\n",
       "      <th>JobInvolvement</th>\n",
       "      <th>PerformanceRating</th>\n",
       "    </tr>\n",
       "  </thead>\n",
       "  <tbody>\n",
       "    <tr>\n",
       "      <th>0</th>\n",
       "      <td>1</td>\n",
       "      <td>3</td>\n",
       "      <td>3</td>\n",
       "    </tr>\n",
       "    <tr>\n",
       "      <th>1</th>\n",
       "      <td>2</td>\n",
       "      <td>2</td>\n",
       "      <td>4</td>\n",
       "    </tr>\n",
       "    <tr>\n",
       "      <th>2</th>\n",
       "      <td>3</td>\n",
       "      <td>3</td>\n",
       "      <td>3</td>\n",
       "    </tr>\n",
       "    <tr>\n",
       "      <th>3</th>\n",
       "      <td>4</td>\n",
       "      <td>2</td>\n",
       "      <td>3</td>\n",
       "    </tr>\n",
       "    <tr>\n",
       "      <th>4</th>\n",
       "      <td>5</td>\n",
       "      <td>3</td>\n",
       "      <td>3</td>\n",
       "    </tr>\n",
       "  </tbody>\n",
       "</table>\n",
       "</div>"
      ],
      "text/plain": [
       "   EmployeeID  JobInvolvement  PerformanceRating\n",
       "0           1               3                  3\n",
       "1           2               2                  4\n",
       "2           3               3                  3\n",
       "3           4               2                  3\n",
       "4           5               3                  3"
      ]
     },
     "execution_count": 13,
     "metadata": {},
     "output_type": "execute_result"
    }
   ],
   "source": [
    "manager_survey_data.head()"
   ]
  },
  {
   "cell_type": "code",
   "execution_count": 14,
   "id": "d41fd70b",
   "metadata": {},
   "outputs": [
    {
     "data": {
      "text/plain": [
       "4410"
      ]
     },
     "execution_count": 14,
     "metadata": {},
     "output_type": "execute_result"
    }
   ],
   "source": [
    "manager_survey_data['EmployeeID'].nunique()"
   ]
  },
  {
   "cell_type": "markdown",
   "id": "10197532",
   "metadata": {},
   "source": [
    "Manager Surevy Data is also unique at the EmployeeID level"
   ]
  },
  {
   "cell_type": "markdown",
   "id": "d9316a81",
   "metadata": {},
   "source": [
    "# In-time data"
   ]
  },
  {
   "cell_type": "code",
   "execution_count": 15,
   "id": "7f1619c9",
   "metadata": {},
   "outputs": [
    {
     "data": {
      "text/html": [
       "<div>\n",
       "<style scoped>\n",
       "    .dataframe tbody tr th:only-of-type {\n",
       "        vertical-align: middle;\n",
       "    }\n",
       "\n",
       "    .dataframe tbody tr th {\n",
       "        vertical-align: top;\n",
       "    }\n",
       "\n",
       "    .dataframe thead th {\n",
       "        text-align: right;\n",
       "    }\n",
       "</style>\n",
       "<table border=\"1\" class=\"dataframe\">\n",
       "  <thead>\n",
       "    <tr style=\"text-align: right;\">\n",
       "      <th></th>\n",
       "      <th>Unnamed: 0</th>\n",
       "      <th>2015-01-01</th>\n",
       "      <th>2015-01-02</th>\n",
       "      <th>2015-01-05</th>\n",
       "      <th>2015-01-06</th>\n",
       "      <th>2015-01-07</th>\n",
       "      <th>2015-01-08</th>\n",
       "      <th>2015-01-09</th>\n",
       "      <th>2015-01-12</th>\n",
       "      <th>2015-01-13</th>\n",
       "      <th>...</th>\n",
       "      <th>2015-12-18</th>\n",
       "      <th>2015-12-21</th>\n",
       "      <th>2015-12-22</th>\n",
       "      <th>2015-12-23</th>\n",
       "      <th>2015-12-24</th>\n",
       "      <th>2015-12-25</th>\n",
       "      <th>2015-12-28</th>\n",
       "      <th>2015-12-29</th>\n",
       "      <th>2015-12-30</th>\n",
       "      <th>2015-12-31</th>\n",
       "    </tr>\n",
       "  </thead>\n",
       "  <tbody>\n",
       "    <tr>\n",
       "      <th>0</th>\n",
       "      <td>1</td>\n",
       "      <td>NaN</td>\n",
       "      <td>2015-01-02 09:43:45</td>\n",
       "      <td>2015-01-05 10:08:48</td>\n",
       "      <td>2015-01-06 09:54:26</td>\n",
       "      <td>2015-01-07 09:34:31</td>\n",
       "      <td>2015-01-08 09:51:09</td>\n",
       "      <td>2015-01-09 10:09:25</td>\n",
       "      <td>2015-01-12 09:42:53</td>\n",
       "      <td>2015-01-13 10:13:06</td>\n",
       "      <td>...</td>\n",
       "      <td>NaN</td>\n",
       "      <td>2015-12-21 09:55:29</td>\n",
       "      <td>2015-12-22 10:04:06</td>\n",
       "      <td>2015-12-23 10:14:27</td>\n",
       "      <td>2015-12-24 10:11:35</td>\n",
       "      <td>NaN</td>\n",
       "      <td>2015-12-28 10:13:41</td>\n",
       "      <td>2015-12-29 10:03:36</td>\n",
       "      <td>2015-12-30 09:54:12</td>\n",
       "      <td>2015-12-31 10:12:44</td>\n",
       "    </tr>\n",
       "    <tr>\n",
       "      <th>1</th>\n",
       "      <td>2</td>\n",
       "      <td>NaN</td>\n",
       "      <td>2015-01-02 10:15:44</td>\n",
       "      <td>2015-01-05 10:21:05</td>\n",
       "      <td>NaN</td>\n",
       "      <td>2015-01-07 09:45:17</td>\n",
       "      <td>2015-01-08 10:09:04</td>\n",
       "      <td>2015-01-09 09:43:26</td>\n",
       "      <td>2015-01-12 10:00:07</td>\n",
       "      <td>2015-01-13 10:43:29</td>\n",
       "      <td>...</td>\n",
       "      <td>2015-12-18 10:37:17</td>\n",
       "      <td>2015-12-21 09:49:02</td>\n",
       "      <td>2015-12-22 10:33:51</td>\n",
       "      <td>2015-12-23 10:12:10</td>\n",
       "      <td>NaN</td>\n",
       "      <td>NaN</td>\n",
       "      <td>2015-12-28 09:31:45</td>\n",
       "      <td>2015-12-29 09:55:49</td>\n",
       "      <td>2015-12-30 10:32:25</td>\n",
       "      <td>2015-12-31 09:27:20</td>\n",
       "    </tr>\n",
       "    <tr>\n",
       "      <th>2</th>\n",
       "      <td>3</td>\n",
       "      <td>NaN</td>\n",
       "      <td>2015-01-02 10:17:41</td>\n",
       "      <td>2015-01-05 09:50:50</td>\n",
       "      <td>2015-01-06 10:14:13</td>\n",
       "      <td>2015-01-07 09:47:27</td>\n",
       "      <td>2015-01-08 10:03:40</td>\n",
       "      <td>2015-01-09 10:05:49</td>\n",
       "      <td>2015-01-12 10:03:47</td>\n",
       "      <td>2015-01-13 10:21:26</td>\n",
       "      <td>...</td>\n",
       "      <td>2015-12-18 10:15:14</td>\n",
       "      <td>2015-12-21 10:10:28</td>\n",
       "      <td>2015-12-22 09:44:44</td>\n",
       "      <td>2015-12-23 10:15:54</td>\n",
       "      <td>2015-12-24 10:07:26</td>\n",
       "      <td>NaN</td>\n",
       "      <td>2015-12-28 09:42:05</td>\n",
       "      <td>2015-12-29 09:43:36</td>\n",
       "      <td>2015-12-30 09:34:05</td>\n",
       "      <td>2015-12-31 10:28:39</td>\n",
       "    </tr>\n",
       "    <tr>\n",
       "      <th>3</th>\n",
       "      <td>4</td>\n",
       "      <td>NaN</td>\n",
       "      <td>2015-01-02 10:05:06</td>\n",
       "      <td>2015-01-05 09:56:32</td>\n",
       "      <td>2015-01-06 10:11:07</td>\n",
       "      <td>2015-01-07 09:37:30</td>\n",
       "      <td>2015-01-08 10:02:08</td>\n",
       "      <td>2015-01-09 10:08:12</td>\n",
       "      <td>2015-01-12 10:13:42</td>\n",
       "      <td>2015-01-13 09:53:22</td>\n",
       "      <td>...</td>\n",
       "      <td>2015-12-18 10:17:38</td>\n",
       "      <td>2015-12-21 09:58:21</td>\n",
       "      <td>2015-12-22 10:04:25</td>\n",
       "      <td>2015-12-23 10:11:46</td>\n",
       "      <td>2015-12-24 09:43:15</td>\n",
       "      <td>NaN</td>\n",
       "      <td>2015-12-28 09:52:44</td>\n",
       "      <td>2015-12-29 09:33:16</td>\n",
       "      <td>2015-12-30 10:18:12</td>\n",
       "      <td>2015-12-31 10:01:15</td>\n",
       "    </tr>\n",
       "    <tr>\n",
       "      <th>4</th>\n",
       "      <td>5</td>\n",
       "      <td>NaN</td>\n",
       "      <td>2015-01-02 10:28:17</td>\n",
       "      <td>2015-01-05 09:49:58</td>\n",
       "      <td>2015-01-06 09:45:28</td>\n",
       "      <td>2015-01-07 09:49:37</td>\n",
       "      <td>2015-01-08 10:19:44</td>\n",
       "      <td>2015-01-09 10:00:50</td>\n",
       "      <td>2015-01-12 10:29:27</td>\n",
       "      <td>2015-01-13 09:59:32</td>\n",
       "      <td>...</td>\n",
       "      <td>2015-12-18 09:58:35</td>\n",
       "      <td>2015-12-21 10:03:41</td>\n",
       "      <td>2015-12-22 10:10:30</td>\n",
       "      <td>2015-12-23 10:13:36</td>\n",
       "      <td>2015-12-24 09:44:24</td>\n",
       "      <td>NaN</td>\n",
       "      <td>2015-12-28 10:05:15</td>\n",
       "      <td>2015-12-29 10:30:53</td>\n",
       "      <td>2015-12-30 09:18:21</td>\n",
       "      <td>2015-12-31 09:41:09</td>\n",
       "    </tr>\n",
       "  </tbody>\n",
       "</table>\n",
       "<p>5 rows × 262 columns</p>\n",
       "</div>"
      ],
      "text/plain": [
       "   Unnamed: 0  2015-01-01           2015-01-02           2015-01-05  \\\n",
       "0           1         NaN  2015-01-02 09:43:45  2015-01-05 10:08:48   \n",
       "1           2         NaN  2015-01-02 10:15:44  2015-01-05 10:21:05   \n",
       "2           3         NaN  2015-01-02 10:17:41  2015-01-05 09:50:50   \n",
       "3           4         NaN  2015-01-02 10:05:06  2015-01-05 09:56:32   \n",
       "4           5         NaN  2015-01-02 10:28:17  2015-01-05 09:49:58   \n",
       "\n",
       "            2015-01-06           2015-01-07           2015-01-08  \\\n",
       "0  2015-01-06 09:54:26  2015-01-07 09:34:31  2015-01-08 09:51:09   \n",
       "1                  NaN  2015-01-07 09:45:17  2015-01-08 10:09:04   \n",
       "2  2015-01-06 10:14:13  2015-01-07 09:47:27  2015-01-08 10:03:40   \n",
       "3  2015-01-06 10:11:07  2015-01-07 09:37:30  2015-01-08 10:02:08   \n",
       "4  2015-01-06 09:45:28  2015-01-07 09:49:37  2015-01-08 10:19:44   \n",
       "\n",
       "            2015-01-09           2015-01-12           2015-01-13  ...  \\\n",
       "0  2015-01-09 10:09:25  2015-01-12 09:42:53  2015-01-13 10:13:06  ...   \n",
       "1  2015-01-09 09:43:26  2015-01-12 10:00:07  2015-01-13 10:43:29  ...   \n",
       "2  2015-01-09 10:05:49  2015-01-12 10:03:47  2015-01-13 10:21:26  ...   \n",
       "3  2015-01-09 10:08:12  2015-01-12 10:13:42  2015-01-13 09:53:22  ...   \n",
       "4  2015-01-09 10:00:50  2015-01-12 10:29:27  2015-01-13 09:59:32  ...   \n",
       "\n",
       "            2015-12-18           2015-12-21           2015-12-22  \\\n",
       "0                  NaN  2015-12-21 09:55:29  2015-12-22 10:04:06   \n",
       "1  2015-12-18 10:37:17  2015-12-21 09:49:02  2015-12-22 10:33:51   \n",
       "2  2015-12-18 10:15:14  2015-12-21 10:10:28  2015-12-22 09:44:44   \n",
       "3  2015-12-18 10:17:38  2015-12-21 09:58:21  2015-12-22 10:04:25   \n",
       "4  2015-12-18 09:58:35  2015-12-21 10:03:41  2015-12-22 10:10:30   \n",
       "\n",
       "            2015-12-23           2015-12-24 2015-12-25           2015-12-28  \\\n",
       "0  2015-12-23 10:14:27  2015-12-24 10:11:35        NaN  2015-12-28 10:13:41   \n",
       "1  2015-12-23 10:12:10                  NaN        NaN  2015-12-28 09:31:45   \n",
       "2  2015-12-23 10:15:54  2015-12-24 10:07:26        NaN  2015-12-28 09:42:05   \n",
       "3  2015-12-23 10:11:46  2015-12-24 09:43:15        NaN  2015-12-28 09:52:44   \n",
       "4  2015-12-23 10:13:36  2015-12-24 09:44:24        NaN  2015-12-28 10:05:15   \n",
       "\n",
       "            2015-12-29           2015-12-30           2015-12-31  \n",
       "0  2015-12-29 10:03:36  2015-12-30 09:54:12  2015-12-31 10:12:44  \n",
       "1  2015-12-29 09:55:49  2015-12-30 10:32:25  2015-12-31 09:27:20  \n",
       "2  2015-12-29 09:43:36  2015-12-30 09:34:05  2015-12-31 10:28:39  \n",
       "3  2015-12-29 09:33:16  2015-12-30 10:18:12  2015-12-31 10:01:15  \n",
       "4  2015-12-29 10:30:53  2015-12-30 09:18:21  2015-12-31 09:41:09  \n",
       "\n",
       "[5 rows x 262 columns]"
      ]
     },
     "execution_count": 15,
     "metadata": {},
     "output_type": "execute_result"
    }
   ],
   "source": [
    "in_time.head()"
   ]
  },
  {
   "cell_type": "markdown",
   "id": "880195d4",
   "metadata": {},
   "source": [
    "There are null values in the dataset"
   ]
  },
  {
   "cell_type": "code",
   "execution_count": 16,
   "id": "a3b48542",
   "metadata": {},
   "outputs": [],
   "source": [
    "null_in_time=pd.DataFrame(in_time.isna().sum(),columns=['Null'])"
   ]
  },
  {
   "cell_type": "code",
   "execution_count": 17,
   "id": "7480d148",
   "metadata": {},
   "outputs": [
    {
     "data": {
      "text/html": [
       "<div>\n",
       "<style scoped>\n",
       "    .dataframe tbody tr th:only-of-type {\n",
       "        vertical-align: middle;\n",
       "    }\n",
       "\n",
       "    .dataframe tbody tr th {\n",
       "        vertical-align: top;\n",
       "    }\n",
       "\n",
       "    .dataframe thead th {\n",
       "        text-align: right;\n",
       "    }\n",
       "</style>\n",
       "<table border=\"1\" class=\"dataframe\">\n",
       "  <thead>\n",
       "    <tr style=\"text-align: right;\">\n",
       "      <th></th>\n",
       "      <th>Null</th>\n",
       "    </tr>\n",
       "  </thead>\n",
       "  <tbody>\n",
       "    <tr>\n",
       "      <th>Unnamed: 0</th>\n",
       "      <td>0</td>\n",
       "    </tr>\n",
       "    <tr>\n",
       "      <th>2015-01-01</th>\n",
       "      <td>4410</td>\n",
       "    </tr>\n",
       "    <tr>\n",
       "      <th>2015-01-02</th>\n",
       "      <td>209</td>\n",
       "    </tr>\n",
       "    <tr>\n",
       "      <th>2015-01-05</th>\n",
       "      <td>206</td>\n",
       "    </tr>\n",
       "    <tr>\n",
       "      <th>2015-01-06</th>\n",
       "      <td>228</td>\n",
       "    </tr>\n",
       "  </tbody>\n",
       "</table>\n",
       "</div>"
      ],
      "text/plain": [
       "            Null\n",
       "Unnamed: 0     0\n",
       "2015-01-01  4410\n",
       "2015-01-02   209\n",
       "2015-01-05   206\n",
       "2015-01-06   228"
      ]
     },
     "execution_count": 17,
     "metadata": {},
     "output_type": "execute_result"
    }
   ],
   "source": [
    "null_in_time.head()"
   ]
  },
  {
   "cell_type": "code",
   "execution_count": 18,
   "id": "c6e2da32",
   "metadata": {},
   "outputs": [
    {
     "data": {
      "text/html": [
       "<div>\n",
       "<style scoped>\n",
       "    .dataframe tbody tr th:only-of-type {\n",
       "        vertical-align: middle;\n",
       "    }\n",
       "\n",
       "    .dataframe tbody tr th {\n",
       "        vertical-align: top;\n",
       "    }\n",
       "\n",
       "    .dataframe thead th {\n",
       "        text-align: right;\n",
       "    }\n",
       "</style>\n",
       "<table border=\"1\" class=\"dataframe\">\n",
       "  <thead>\n",
       "    <tr style=\"text-align: right;\">\n",
       "      <th></th>\n",
       "      <th>Null</th>\n",
       "    </tr>\n",
       "  </thead>\n",
       "  <tbody>\n",
       "    <tr>\n",
       "      <th>2015-01-01</th>\n",
       "      <td>4410</td>\n",
       "    </tr>\n",
       "    <tr>\n",
       "      <th>2015-01-14</th>\n",
       "      <td>4410</td>\n",
       "    </tr>\n",
       "    <tr>\n",
       "      <th>2015-01-26</th>\n",
       "      <td>4410</td>\n",
       "    </tr>\n",
       "    <tr>\n",
       "      <th>2015-03-05</th>\n",
       "      <td>4410</td>\n",
       "    </tr>\n",
       "    <tr>\n",
       "      <th>2015-05-01</th>\n",
       "      <td>4410</td>\n",
       "    </tr>\n",
       "    <tr>\n",
       "      <th>2015-07-17</th>\n",
       "      <td>4410</td>\n",
       "    </tr>\n",
       "    <tr>\n",
       "      <th>2015-09-17</th>\n",
       "      <td>4410</td>\n",
       "    </tr>\n",
       "    <tr>\n",
       "      <th>2015-10-02</th>\n",
       "      <td>4410</td>\n",
       "    </tr>\n",
       "    <tr>\n",
       "      <th>2015-11-09</th>\n",
       "      <td>4410</td>\n",
       "    </tr>\n",
       "    <tr>\n",
       "      <th>2015-11-10</th>\n",
       "      <td>4410</td>\n",
       "    </tr>\n",
       "    <tr>\n",
       "      <th>2015-11-11</th>\n",
       "      <td>4410</td>\n",
       "    </tr>\n",
       "    <tr>\n",
       "      <th>2015-12-25</th>\n",
       "      <td>4410</td>\n",
       "    </tr>\n",
       "  </tbody>\n",
       "</table>\n",
       "</div>"
      ],
      "text/plain": [
       "            Null\n",
       "2015-01-01  4410\n",
       "2015-01-14  4410\n",
       "2015-01-26  4410\n",
       "2015-03-05  4410\n",
       "2015-05-01  4410\n",
       "2015-07-17  4410\n",
       "2015-09-17  4410\n",
       "2015-10-02  4410\n",
       "2015-11-09  4410\n",
       "2015-11-10  4410\n",
       "2015-11-11  4410\n",
       "2015-12-25  4410"
      ]
     },
     "execution_count": 18,
     "metadata": {},
     "output_type": "execute_result"
    }
   ],
   "source": [
    "#The dates where are all the values are null\n",
    "null_in_time[null_in_time['Null']==4410]"
   ]
  },
  {
   "cell_type": "code",
   "execution_count": 19,
   "id": "0bd4ec75",
   "metadata": {},
   "outputs": [
    {
     "data": {
      "text/plain": [
       "Null    224.64\n",
       "dtype: float64"
      ]
     },
     "execution_count": 19,
     "metadata": {},
     "output_type": "execute_result"
    }
   ],
   "source": [
    "null_in_time[null_in_time['Null']!=4410].mean()"
   ]
  },
  {
   "cell_type": "markdown",
   "id": "62816c0d",
   "metadata": {},
   "source": [
    "We have around columns that are not completely null"
   ]
  },
  {
   "cell_type": "markdown",
   "id": "2b59b0a0",
   "metadata": {},
   "source": [
    "### Out time Data"
   ]
  },
  {
   "cell_type": "code",
   "execution_count": 20,
   "id": "487b8e44",
   "metadata": {},
   "outputs": [
    {
     "data": {
      "text/html": [
       "<div>\n",
       "<style scoped>\n",
       "    .dataframe tbody tr th:only-of-type {\n",
       "        vertical-align: middle;\n",
       "    }\n",
       "\n",
       "    .dataframe tbody tr th {\n",
       "        vertical-align: top;\n",
       "    }\n",
       "\n",
       "    .dataframe thead th {\n",
       "        text-align: right;\n",
       "    }\n",
       "</style>\n",
       "<table border=\"1\" class=\"dataframe\">\n",
       "  <thead>\n",
       "    <tr style=\"text-align: right;\">\n",
       "      <th></th>\n",
       "      <th>Unnamed: 0</th>\n",
       "      <th>2015-01-01</th>\n",
       "      <th>2015-01-02</th>\n",
       "      <th>2015-01-05</th>\n",
       "      <th>2015-01-06</th>\n",
       "      <th>2015-01-07</th>\n",
       "      <th>2015-01-08</th>\n",
       "      <th>2015-01-09</th>\n",
       "      <th>2015-01-12</th>\n",
       "      <th>2015-01-13</th>\n",
       "      <th>...</th>\n",
       "      <th>2015-12-18</th>\n",
       "      <th>2015-12-21</th>\n",
       "      <th>2015-12-22</th>\n",
       "      <th>2015-12-23</th>\n",
       "      <th>2015-12-24</th>\n",
       "      <th>2015-12-25</th>\n",
       "      <th>2015-12-28</th>\n",
       "      <th>2015-12-29</th>\n",
       "      <th>2015-12-30</th>\n",
       "      <th>2015-12-31</th>\n",
       "    </tr>\n",
       "  </thead>\n",
       "  <tbody>\n",
       "    <tr>\n",
       "      <th>0</th>\n",
       "      <td>1</td>\n",
       "      <td>NaN</td>\n",
       "      <td>2015-01-02 16:56:15</td>\n",
       "      <td>2015-01-05 17:20:11</td>\n",
       "      <td>2015-01-06 17:19:05</td>\n",
       "      <td>2015-01-07 16:34:55</td>\n",
       "      <td>2015-01-08 17:08:32</td>\n",
       "      <td>2015-01-09 17:38:29</td>\n",
       "      <td>2015-01-12 16:58:39</td>\n",
       "      <td>2015-01-13 18:02:58</td>\n",
       "      <td>...</td>\n",
       "      <td>NaN</td>\n",
       "      <td>2015-12-21 17:15:50</td>\n",
       "      <td>2015-12-22 17:27:51</td>\n",
       "      <td>2015-12-23 16:44:44</td>\n",
       "      <td>2015-12-24 17:47:22</td>\n",
       "      <td>NaN</td>\n",
       "      <td>2015-12-28 18:00:07</td>\n",
       "      <td>2015-12-29 17:22:30</td>\n",
       "      <td>2015-12-30 17:40:56</td>\n",
       "      <td>2015-12-31 17:17:33</td>\n",
       "    </tr>\n",
       "    <tr>\n",
       "      <th>1</th>\n",
       "      <td>2</td>\n",
       "      <td>NaN</td>\n",
       "      <td>2015-01-02 18:22:17</td>\n",
       "      <td>2015-01-05 17:48:22</td>\n",
       "      <td>NaN</td>\n",
       "      <td>2015-01-07 17:09:06</td>\n",
       "      <td>2015-01-08 17:34:04</td>\n",
       "      <td>2015-01-09 16:52:29</td>\n",
       "      <td>2015-01-12 17:36:48</td>\n",
       "      <td>2015-01-13 18:00:13</td>\n",
       "      <td>...</td>\n",
       "      <td>2015-12-18 18:31:28</td>\n",
       "      <td>2015-12-21 17:34:16</td>\n",
       "      <td>2015-12-22 18:16:35</td>\n",
       "      <td>2015-12-23 17:38:18</td>\n",
       "      <td>NaN</td>\n",
       "      <td>NaN</td>\n",
       "      <td>2015-12-28 17:08:38</td>\n",
       "      <td>2015-12-29 17:54:46</td>\n",
       "      <td>2015-12-30 18:31:35</td>\n",
       "      <td>2015-12-31 17:40:58</td>\n",
       "    </tr>\n",
       "    <tr>\n",
       "      <th>2</th>\n",
       "      <td>3</td>\n",
       "      <td>NaN</td>\n",
       "      <td>2015-01-02 16:59:14</td>\n",
       "      <td>2015-01-05 17:06:46</td>\n",
       "      <td>2015-01-06 16:38:32</td>\n",
       "      <td>2015-01-07 16:33:21</td>\n",
       "      <td>2015-01-08 17:24:22</td>\n",
       "      <td>2015-01-09 16:57:30</td>\n",
       "      <td>2015-01-12 17:28:54</td>\n",
       "      <td>2015-01-13 17:21:25</td>\n",
       "      <td>...</td>\n",
       "      <td>2015-12-18 17:02:23</td>\n",
       "      <td>2015-12-21 17:20:17</td>\n",
       "      <td>2015-12-22 16:32:50</td>\n",
       "      <td>2015-12-23 16:59:43</td>\n",
       "      <td>2015-12-24 16:58:25</td>\n",
       "      <td>NaN</td>\n",
       "      <td>2015-12-28 16:43:31</td>\n",
       "      <td>2015-12-29 17:09:56</td>\n",
       "      <td>2015-12-30 17:06:25</td>\n",
       "      <td>2015-12-31 17:15:50</td>\n",
       "    </tr>\n",
       "    <tr>\n",
       "      <th>3</th>\n",
       "      <td>4</td>\n",
       "      <td>NaN</td>\n",
       "      <td>2015-01-02 17:25:24</td>\n",
       "      <td>2015-01-05 17:14:03</td>\n",
       "      <td>2015-01-06 17:07:42</td>\n",
       "      <td>2015-01-07 16:32:40</td>\n",
       "      <td>2015-01-08 16:53:11</td>\n",
       "      <td>2015-01-09 17:19:47</td>\n",
       "      <td>2015-01-12 17:13:37</td>\n",
       "      <td>2015-01-13 17:11:45</td>\n",
       "      <td>...</td>\n",
       "      <td>2015-12-18 17:55:23</td>\n",
       "      <td>2015-12-21 16:49:09</td>\n",
       "      <td>2015-12-22 17:24:00</td>\n",
       "      <td>2015-12-23 17:36:35</td>\n",
       "      <td>2015-12-24 16:48:21</td>\n",
       "      <td>NaN</td>\n",
       "      <td>2015-12-28 17:19:34</td>\n",
       "      <td>2015-12-29 16:58:16</td>\n",
       "      <td>2015-12-30 17:40:11</td>\n",
       "      <td>2015-12-31 17:09:14</td>\n",
       "    </tr>\n",
       "    <tr>\n",
       "      <th>4</th>\n",
       "      <td>5</td>\n",
       "      <td>NaN</td>\n",
       "      <td>2015-01-02 18:31:37</td>\n",
       "      <td>2015-01-05 17:49:15</td>\n",
       "      <td>2015-01-06 17:26:25</td>\n",
       "      <td>2015-01-07 17:37:59</td>\n",
       "      <td>2015-01-08 17:59:28</td>\n",
       "      <td>2015-01-09 17:44:08</td>\n",
       "      <td>2015-01-12 18:51:21</td>\n",
       "      <td>2015-01-13 18:14:58</td>\n",
       "      <td>...</td>\n",
       "      <td>2015-12-18 17:52:48</td>\n",
       "      <td>2015-12-21 17:43:35</td>\n",
       "      <td>2015-12-22 18:07:57</td>\n",
       "      <td>2015-12-23 18:00:49</td>\n",
       "      <td>2015-12-24 17:59:22</td>\n",
       "      <td>NaN</td>\n",
       "      <td>2015-12-28 17:44:59</td>\n",
       "      <td>2015-12-29 18:47:00</td>\n",
       "      <td>2015-12-30 17:15:33</td>\n",
       "      <td>2015-12-31 17:42:14</td>\n",
       "    </tr>\n",
       "  </tbody>\n",
       "</table>\n",
       "<p>5 rows × 262 columns</p>\n",
       "</div>"
      ],
      "text/plain": [
       "   Unnamed: 0  2015-01-01           2015-01-02           2015-01-05  \\\n",
       "0           1         NaN  2015-01-02 16:56:15  2015-01-05 17:20:11   \n",
       "1           2         NaN  2015-01-02 18:22:17  2015-01-05 17:48:22   \n",
       "2           3         NaN  2015-01-02 16:59:14  2015-01-05 17:06:46   \n",
       "3           4         NaN  2015-01-02 17:25:24  2015-01-05 17:14:03   \n",
       "4           5         NaN  2015-01-02 18:31:37  2015-01-05 17:49:15   \n",
       "\n",
       "            2015-01-06           2015-01-07           2015-01-08  \\\n",
       "0  2015-01-06 17:19:05  2015-01-07 16:34:55  2015-01-08 17:08:32   \n",
       "1                  NaN  2015-01-07 17:09:06  2015-01-08 17:34:04   \n",
       "2  2015-01-06 16:38:32  2015-01-07 16:33:21  2015-01-08 17:24:22   \n",
       "3  2015-01-06 17:07:42  2015-01-07 16:32:40  2015-01-08 16:53:11   \n",
       "4  2015-01-06 17:26:25  2015-01-07 17:37:59  2015-01-08 17:59:28   \n",
       "\n",
       "            2015-01-09           2015-01-12           2015-01-13  ...  \\\n",
       "0  2015-01-09 17:38:29  2015-01-12 16:58:39  2015-01-13 18:02:58  ...   \n",
       "1  2015-01-09 16:52:29  2015-01-12 17:36:48  2015-01-13 18:00:13  ...   \n",
       "2  2015-01-09 16:57:30  2015-01-12 17:28:54  2015-01-13 17:21:25  ...   \n",
       "3  2015-01-09 17:19:47  2015-01-12 17:13:37  2015-01-13 17:11:45  ...   \n",
       "4  2015-01-09 17:44:08  2015-01-12 18:51:21  2015-01-13 18:14:58  ...   \n",
       "\n",
       "            2015-12-18           2015-12-21           2015-12-22  \\\n",
       "0                  NaN  2015-12-21 17:15:50  2015-12-22 17:27:51   \n",
       "1  2015-12-18 18:31:28  2015-12-21 17:34:16  2015-12-22 18:16:35   \n",
       "2  2015-12-18 17:02:23  2015-12-21 17:20:17  2015-12-22 16:32:50   \n",
       "3  2015-12-18 17:55:23  2015-12-21 16:49:09  2015-12-22 17:24:00   \n",
       "4  2015-12-18 17:52:48  2015-12-21 17:43:35  2015-12-22 18:07:57   \n",
       "\n",
       "            2015-12-23           2015-12-24 2015-12-25           2015-12-28  \\\n",
       "0  2015-12-23 16:44:44  2015-12-24 17:47:22        NaN  2015-12-28 18:00:07   \n",
       "1  2015-12-23 17:38:18                  NaN        NaN  2015-12-28 17:08:38   \n",
       "2  2015-12-23 16:59:43  2015-12-24 16:58:25        NaN  2015-12-28 16:43:31   \n",
       "3  2015-12-23 17:36:35  2015-12-24 16:48:21        NaN  2015-12-28 17:19:34   \n",
       "4  2015-12-23 18:00:49  2015-12-24 17:59:22        NaN  2015-12-28 17:44:59   \n",
       "\n",
       "            2015-12-29           2015-12-30           2015-12-31  \n",
       "0  2015-12-29 17:22:30  2015-12-30 17:40:56  2015-12-31 17:17:33  \n",
       "1  2015-12-29 17:54:46  2015-12-30 18:31:35  2015-12-31 17:40:58  \n",
       "2  2015-12-29 17:09:56  2015-12-30 17:06:25  2015-12-31 17:15:50  \n",
       "3  2015-12-29 16:58:16  2015-12-30 17:40:11  2015-12-31 17:09:14  \n",
       "4  2015-12-29 18:47:00  2015-12-30 17:15:33  2015-12-31 17:42:14  \n",
       "\n",
       "[5 rows x 262 columns]"
      ]
     },
     "execution_count": 20,
     "metadata": {},
     "output_type": "execute_result"
    }
   ],
   "source": [
    "out_time.head()"
   ]
  },
  {
   "cell_type": "code",
   "execution_count": 21,
   "id": "da78637f",
   "metadata": {},
   "outputs": [
    {
     "data": {
      "text/html": [
       "<div>\n",
       "<style scoped>\n",
       "    .dataframe tbody tr th:only-of-type {\n",
       "        vertical-align: middle;\n",
       "    }\n",
       "\n",
       "    .dataframe tbody tr th {\n",
       "        vertical-align: top;\n",
       "    }\n",
       "\n",
       "    .dataframe thead th {\n",
       "        text-align: right;\n",
       "    }\n",
       "</style>\n",
       "<table border=\"1\" class=\"dataframe\">\n",
       "  <thead>\n",
       "    <tr style=\"text-align: right;\">\n",
       "      <th></th>\n",
       "      <th>Null</th>\n",
       "    </tr>\n",
       "  </thead>\n",
       "  <tbody>\n",
       "    <tr>\n",
       "      <th>2015-01-01</th>\n",
       "      <td>4410</td>\n",
       "    </tr>\n",
       "    <tr>\n",
       "      <th>2015-01-14</th>\n",
       "      <td>4410</td>\n",
       "    </tr>\n",
       "    <tr>\n",
       "      <th>2015-01-26</th>\n",
       "      <td>4410</td>\n",
       "    </tr>\n",
       "    <tr>\n",
       "      <th>2015-03-05</th>\n",
       "      <td>4410</td>\n",
       "    </tr>\n",
       "    <tr>\n",
       "      <th>2015-05-01</th>\n",
       "      <td>4410</td>\n",
       "    </tr>\n",
       "    <tr>\n",
       "      <th>2015-07-17</th>\n",
       "      <td>4410</td>\n",
       "    </tr>\n",
       "    <tr>\n",
       "      <th>2015-09-17</th>\n",
       "      <td>4410</td>\n",
       "    </tr>\n",
       "    <tr>\n",
       "      <th>2015-10-02</th>\n",
       "      <td>4410</td>\n",
       "    </tr>\n",
       "    <tr>\n",
       "      <th>2015-11-09</th>\n",
       "      <td>4410</td>\n",
       "    </tr>\n",
       "    <tr>\n",
       "      <th>2015-11-10</th>\n",
       "      <td>4410</td>\n",
       "    </tr>\n",
       "    <tr>\n",
       "      <th>2015-11-11</th>\n",
       "      <td>4410</td>\n",
       "    </tr>\n",
       "    <tr>\n",
       "      <th>2015-12-25</th>\n",
       "      <td>4410</td>\n",
       "    </tr>\n",
       "  </tbody>\n",
       "</table>\n",
       "</div>"
      ],
      "text/plain": [
       "            Null\n",
       "2015-01-01  4410\n",
       "2015-01-14  4410\n",
       "2015-01-26  4410\n",
       "2015-03-05  4410\n",
       "2015-05-01  4410\n",
       "2015-07-17  4410\n",
       "2015-09-17  4410\n",
       "2015-10-02  4410\n",
       "2015-11-09  4410\n",
       "2015-11-10  4410\n",
       "2015-11-11  4410\n",
       "2015-12-25  4410"
      ]
     },
     "execution_count": 21,
     "metadata": {},
     "output_type": "execute_result"
    }
   ],
   "source": [
    "null_in_time[null_in_time['Null']==4410]"
   ]
  },
  {
   "cell_type": "markdown",
   "id": "8e3440c3",
   "metadata": {},
   "source": [
    "# Web Scrapping using Beautiful Soup"
   ]
  },
  {
   "cell_type": "code",
   "execution_count": 22,
   "id": "da424c20",
   "metadata": {},
   "outputs": [],
   "source": [
    "url = 'https://www.timeanddate.com/holidays/india/2015?hol=1' #website with the list of Indian holidays in 2015\n",
    "soup = BeautifulSoup(requests.get(url).text, 'lxml')\n",
    "out = [[td.text.strip() for td in tr.select('th, td')] for tr in soup.select('tr[data-mask]')]"
   ]
  },
  {
   "cell_type": "code",
   "execution_count": 23,
   "id": "c5235656",
   "metadata": {},
   "outputs": [],
   "source": [
    "with open('holidays.csv', 'w') as f_out:\n",
    "    writer=csv.writer(f_out)\n",
    "    writer.writerows(out)\n",
    "# above code extracts the table from the website and saves it in the 'holidays.csv' file"
   ]
  },
  {
   "cell_type": "code",
   "execution_count": 24,
   "id": "2e701bb3",
   "metadata": {},
   "outputs": [
    {
     "data": {
      "text/html": [
       "<div>\n",
       "<style scoped>\n",
       "    .dataframe tbody tr th:only-of-type {\n",
       "        vertical-align: middle;\n",
       "    }\n",
       "\n",
       "    .dataframe tbody tr th {\n",
       "        vertical-align: top;\n",
       "    }\n",
       "\n",
       "    .dataframe thead th {\n",
       "        text-align: right;\n",
       "    }\n",
       "</style>\n",
       "<table border=\"1\" class=\"dataframe\">\n",
       "  <thead>\n",
       "    <tr style=\"text-align: right;\">\n",
       "      <th></th>\n",
       "      <th>Date</th>\n",
       "      <th>Day</th>\n",
       "      <th>Festival</th>\n",
       "      <th>Type</th>\n",
       "    </tr>\n",
       "  </thead>\n",
       "  <tbody>\n",
       "    <tr>\n",
       "      <th>0</th>\n",
       "      <td>Jan 1</td>\n",
       "      <td>Thursday</td>\n",
       "      <td>New Year's Day</td>\n",
       "      <td>Restricted Holiday</td>\n",
       "    </tr>\n",
       "    <tr>\n",
       "      <th>1</th>\n",
       "      <td>Jan 4</td>\n",
       "      <td>Sunday</td>\n",
       "      <td>Milad un-Nabi/Id-e-Milad</td>\n",
       "      <td>Gazetted Holiday</td>\n",
       "    </tr>\n",
       "    <tr>\n",
       "      <th>2</th>\n",
       "      <td>Jan 5</td>\n",
       "      <td>Monday</td>\n",
       "      <td>Guru Govind Singh Jayanti</td>\n",
       "      <td>Restricted Holiday</td>\n",
       "    </tr>\n",
       "    <tr>\n",
       "      <th>3</th>\n",
       "      <td>Jan 15</td>\n",
       "      <td>Thursday</td>\n",
       "      <td>Pongal</td>\n",
       "      <td>Restricted Holiday</td>\n",
       "    </tr>\n",
       "    <tr>\n",
       "      <th>4</th>\n",
       "      <td>Jan 15</td>\n",
       "      <td>Thursday</td>\n",
       "      <td>Makar Sankranti</td>\n",
       "      <td>Restricted Holiday</td>\n",
       "    </tr>\n",
       "  </tbody>\n",
       "</table>\n",
       "</div>"
      ],
      "text/plain": [
       "     Date       Day                   Festival                Type\n",
       "0   Jan 1  Thursday             New Year's Day  Restricted Holiday\n",
       "1   Jan 4    Sunday   Milad un-Nabi/Id-e-Milad    Gazetted Holiday\n",
       "2   Jan 5    Monday  Guru Govind Singh Jayanti  Restricted Holiday\n",
       "3  Jan 15  Thursday                     Pongal  Restricted Holiday\n",
       "4  Jan 15  Thursday            Makar Sankranti  Restricted Holiday"
      ]
     },
     "execution_count": 24,
     "metadata": {},
     "output_type": "execute_result"
    }
   ],
   "source": [
    "df=pd.read_csv('holidays.csv',header =None, names = ['Date','Day','Festival','Type'])\n",
    "df.head()"
   ]
  },
  {
   "cell_type": "code",
   "execution_count": 25,
   "id": "12332479",
   "metadata": {},
   "outputs": [
    {
     "data": {
      "text/html": [
       "<div>\n",
       "<style scoped>\n",
       "    .dataframe tbody tr th:only-of-type {\n",
       "        vertical-align: middle;\n",
       "    }\n",
       "\n",
       "    .dataframe tbody tr th {\n",
       "        vertical-align: top;\n",
       "    }\n",
       "\n",
       "    .dataframe thead th {\n",
       "        text-align: right;\n",
       "    }\n",
       "</style>\n",
       "<table border=\"1\" class=\"dataframe\">\n",
       "  <thead>\n",
       "    <tr style=\"text-align: right;\">\n",
       "      <th></th>\n",
       "      <th>Date</th>\n",
       "      <th>Day</th>\n",
       "      <th>Festival</th>\n",
       "      <th>Type</th>\n",
       "    </tr>\n",
       "  </thead>\n",
       "  <tbody>\n",
       "    <tr>\n",
       "      <th>0</th>\n",
       "      <td>Jan 1</td>\n",
       "      <td>Thursday</td>\n",
       "      <td>New Year's Day</td>\n",
       "      <td>Restricted Holiday</td>\n",
       "    </tr>\n",
       "    <tr>\n",
       "      <th>7</th>\n",
       "      <td>Jan 26</td>\n",
       "      <td>Monday</td>\n",
       "      <td>Republic Day</td>\n",
       "      <td>Gazetted Holiday</td>\n",
       "    </tr>\n",
       "    <tr>\n",
       "      <th>14</th>\n",
       "      <td>Mar 5</td>\n",
       "      <td>Thursday</td>\n",
       "      <td>Holika Dahana</td>\n",
       "      <td>Restricted Holiday</td>\n",
       "    </tr>\n",
       "    <tr>\n",
       "      <th>29</th>\n",
       "      <td>May 1</td>\n",
       "      <td>Friday</td>\n",
       "      <td>May Day</td>\n",
       "      <td>Observance</td>\n",
       "    </tr>\n",
       "    <tr>\n",
       "      <th>36</th>\n",
       "      <td>Jul 17</td>\n",
       "      <td>Friday</td>\n",
       "      <td>Jamat Ul-Vida</td>\n",
       "      <td>Restricted Holiday</td>\n",
       "    </tr>\n",
       "    <tr>\n",
       "      <th>47</th>\n",
       "      <td>Sep 17</td>\n",
       "      <td>Thursday</td>\n",
       "      <td>Ganesh Chaturthi/Vinayaka Chaturthi</td>\n",
       "      <td>Restricted Holiday</td>\n",
       "    </tr>\n",
       "    <tr>\n",
       "      <th>50</th>\n",
       "      <td>Oct 2</td>\n",
       "      <td>Friday</td>\n",
       "      <td>Mahatma Gandhi Jayanti</td>\n",
       "      <td>Gazetted Holiday</td>\n",
       "    </tr>\n",
       "    <tr>\n",
       "      <th>60</th>\n",
       "      <td>Nov 10</td>\n",
       "      <td>Tuesday</td>\n",
       "      <td>Naraka Chaturdasi</td>\n",
       "      <td>Restricted Holiday</td>\n",
       "    </tr>\n",
       "    <tr>\n",
       "      <th>61</th>\n",
       "      <td>Nov 11</td>\n",
       "      <td>Wednesday</td>\n",
       "      <td>Diwali/Deepavali</td>\n",
       "      <td>Gazetted Holiday</td>\n",
       "    </tr>\n",
       "    <tr>\n",
       "      <th>71</th>\n",
       "      <td>Dec 25</td>\n",
       "      <td>Friday</td>\n",
       "      <td>Christmas</td>\n",
       "      <td>Gazetted Holiday</td>\n",
       "    </tr>\n",
       "  </tbody>\n",
       "</table>\n",
       "</div>"
      ],
      "text/plain": [
       "      Date        Day                             Festival                Type\n",
       "0    Jan 1   Thursday                       New Year's Day  Restricted Holiday\n",
       "7   Jan 26     Monday                         Republic Day    Gazetted Holiday\n",
       "14   Mar 5   Thursday                        Holika Dahana  Restricted Holiday\n",
       "29   May 1     Friday                              May Day          Observance\n",
       "36  Jul 17     Friday                        Jamat Ul-Vida  Restricted Holiday\n",
       "47  Sep 17   Thursday  Ganesh Chaturthi/Vinayaka Chaturthi  Restricted Holiday\n",
       "50   Oct 2     Friday               Mahatma Gandhi Jayanti    Gazetted Holiday\n",
       "60  Nov 10    Tuesday                    Naraka Chaturdasi  Restricted Holiday\n",
       "61  Nov 11  Wednesday                     Diwali/Deepavali    Gazetted Holiday\n",
       "71  Dec 25     Friday                            Christmas    Gazetted Holiday"
      ]
     },
     "execution_count": 25,
     "metadata": {},
     "output_type": "execute_result"
    }
   ],
   "source": [
    "NA_checklist = ['Jan 1','Jan 14', 'Jan 26', #list containing all the above dates with 4410 NA values  \n",
    "               'Mar 5', 'May 1', 'Jul 17',\n",
    "               'Sep 17', 'Oct 2', 'Nov 9',\n",
    "               'Nov 10', 'Nov 11', 'Dec 25']\n",
    "\n",
    "df[df['Date'].isin(NA_checklist)]"
   ]
  },
  {
   "cell_type": "code",
   "execution_count": 26,
   "id": "0e410de3",
   "metadata": {},
   "outputs": [],
   "source": [
    "melted_in_time = in_time.melt(id_vars = \"Unnamed: 0\",\n",
    "                              value_vars = list(in_time.columns).remove(\"Unnamed: 0\"),var_name = \"Date\", value_name = \"Time\")\n"
   ]
  },
  {
   "cell_type": "code",
   "execution_count": 27,
   "id": "7e3b85bd",
   "metadata": {},
   "outputs": [],
   "source": [
    "melted_out_time=out_time.melt(id_vars='Unnamed: 0',value_vars=list(out_time.columns).remove('Unnamed: 0'),\n",
    "                              var_name='Date',value_name='Time')"
   ]
  },
  {
   "cell_type": "code",
   "execution_count": 28,
   "id": "ea82316c",
   "metadata": {},
   "outputs": [
    {
     "data": {
      "text/html": [
       "<div>\n",
       "<style scoped>\n",
       "    .dataframe tbody tr th:only-of-type {\n",
       "        vertical-align: middle;\n",
       "    }\n",
       "\n",
       "    .dataframe tbody tr th {\n",
       "        vertical-align: top;\n",
       "    }\n",
       "\n",
       "    .dataframe thead th {\n",
       "        text-align: right;\n",
       "    }\n",
       "</style>\n",
       "<table border=\"1\" class=\"dataframe\">\n",
       "  <thead>\n",
       "    <tr style=\"text-align: right;\">\n",
       "      <th></th>\n",
       "      <th>Unnamed: 0</th>\n",
       "      <th>Date</th>\n",
       "      <th>Time</th>\n",
       "    </tr>\n",
       "  </thead>\n",
       "  <tbody>\n",
       "    <tr>\n",
       "      <th>0</th>\n",
       "      <td>1</td>\n",
       "      <td>2015-01-01</td>\n",
       "      <td>NaN</td>\n",
       "    </tr>\n",
       "    <tr>\n",
       "      <th>1</th>\n",
       "      <td>2</td>\n",
       "      <td>2015-01-01</td>\n",
       "      <td>NaN</td>\n",
       "    </tr>\n",
       "  </tbody>\n",
       "</table>\n",
       "</div>"
      ],
      "text/plain": [
       "   Unnamed: 0        Date Time\n",
       "0           1  2015-01-01  NaN\n",
       "1           2  2015-01-01  NaN"
      ]
     },
     "execution_count": 28,
     "metadata": {},
     "output_type": "execute_result"
    }
   ],
   "source": [
    "melted_out_time.head(2)"
   ]
  },
  {
   "cell_type": "markdown",
   "id": "12f4a1ae",
   "metadata": {},
   "source": [
    "## Merging the datasets( melted_in_time and melted_out_Time) for finding the time spent by each employee in the office"
   ]
  },
  {
   "cell_type": "code",
   "execution_count": 29,
   "id": "a6cb5c65",
   "metadata": {},
   "outputs": [],
   "source": [
    "master_time = pd.merge(melted_in_time,\n",
    "                      melted_out_time,\n",
    "                      on = [\"Unnamed: 0\", \"Date\"],\n",
    "                      how = \"inner\")\n"
   ]
  },
  {
   "cell_type": "code",
   "execution_count": 30,
   "id": "bc13ab34",
   "metadata": {},
   "outputs": [
    {
     "data": {
      "text/html": [
       "<div>\n",
       "<style scoped>\n",
       "    .dataframe tbody tr th:only-of-type {\n",
       "        vertical-align: middle;\n",
       "    }\n",
       "\n",
       "    .dataframe tbody tr th {\n",
       "        vertical-align: top;\n",
       "    }\n",
       "\n",
       "    .dataframe thead th {\n",
       "        text-align: right;\n",
       "    }\n",
       "</style>\n",
       "<table border=\"1\" class=\"dataframe\">\n",
       "  <thead>\n",
       "    <tr style=\"text-align: right;\">\n",
       "      <th></th>\n",
       "      <th>Unnamed: 0</th>\n",
       "      <th>Date</th>\n",
       "      <th>Time_x</th>\n",
       "      <th>Time_y</th>\n",
       "    </tr>\n",
       "  </thead>\n",
       "  <tbody>\n",
       "    <tr>\n",
       "      <th>0</th>\n",
       "      <td>1</td>\n",
       "      <td>2015-01-01</td>\n",
       "      <td>NaN</td>\n",
       "      <td>NaN</td>\n",
       "    </tr>\n",
       "    <tr>\n",
       "      <th>1</th>\n",
       "      <td>2</td>\n",
       "      <td>2015-01-01</td>\n",
       "      <td>NaN</td>\n",
       "      <td>NaN</td>\n",
       "    </tr>\n",
       "  </tbody>\n",
       "</table>\n",
       "</div>"
      ],
      "text/plain": [
       "   Unnamed: 0        Date Time_x Time_y\n",
       "0           1  2015-01-01    NaN    NaN\n",
       "1           2  2015-01-01    NaN    NaN"
      ]
     },
     "execution_count": 30,
     "metadata": {},
     "output_type": "execute_result"
    }
   ],
   "source": [
    "master_time.head(2)"
   ]
  },
  {
   "cell_type": "markdown",
   "id": "84366c6b",
   "metadata": {},
   "source": [
    "### Converting the in_time and out_time to datetime formats for calculating the time spent by each employee in the office"
   ]
  },
  {
   "cell_type": "code",
   "execution_count": 31,
   "id": "1c3c99fe",
   "metadata": {},
   "outputs": [],
   "source": [
    "master_time['in_time_0'] = pd.to_datetime(master_time['Time_x'])\n",
    "master_time['out_time_0'] = pd.to_datetime(master_time['Time_y'])"
   ]
  },
  {
   "cell_type": "code",
   "execution_count": 32,
   "id": "4e7d09d5",
   "metadata": {},
   "outputs": [],
   "source": [
    "# Dropping the Null Values"
   ]
  },
  {
   "cell_type": "code",
   "execution_count": 33,
   "id": "a0ebe323",
   "metadata": {},
   "outputs": [
    {
     "data": {
      "text/plain": [
       "(1041930, 6)"
      ]
     },
     "execution_count": 33,
     "metadata": {},
     "output_type": "execute_result"
    }
   ],
   "source": [
    "master_time1 = master_time.dropna()\n",
    "master_time1.shape\n"
   ]
  },
  {
   "cell_type": "code",
   "execution_count": 34,
   "id": "dfea30f4",
   "metadata": {},
   "outputs": [],
   "source": [
    "master_time1['time_spent']=((master_time1['out_time_0'] - master_time1['in_time_0'])/np.timedelta64(1,'h'))"
   ]
  },
  {
   "cell_type": "code",
   "execution_count": 35,
   "id": "e93093b7",
   "metadata": {},
   "outputs": [],
   "source": [
    "#Rename the Unnamed column to Employee Id\n",
    "master_time1.rename(columns = {\"Unnamed: 0\": \"EmployeeID\"}, inplace = True)"
   ]
  },
  {
   "cell_type": "code",
   "execution_count": 36,
   "id": "e9a135ab",
   "metadata": {},
   "outputs": [
    {
     "data": {
      "text/html": [
       "<div>\n",
       "<style scoped>\n",
       "    .dataframe tbody tr th:only-of-type {\n",
       "        vertical-align: middle;\n",
       "    }\n",
       "\n",
       "    .dataframe tbody tr th {\n",
       "        vertical-align: top;\n",
       "    }\n",
       "\n",
       "    .dataframe thead th {\n",
       "        text-align: right;\n",
       "    }\n",
       "</style>\n",
       "<table border=\"1\" class=\"dataframe\">\n",
       "  <thead>\n",
       "    <tr style=\"text-align: right;\">\n",
       "      <th></th>\n",
       "      <th>EmployeeID</th>\n",
       "      <th>Date</th>\n",
       "      <th>Time_x</th>\n",
       "      <th>Time_y</th>\n",
       "      <th>in_time_0</th>\n",
       "      <th>out_time_0</th>\n",
       "      <th>time_spent</th>\n",
       "    </tr>\n",
       "  </thead>\n",
       "  <tbody>\n",
       "    <tr>\n",
       "      <th>4410</th>\n",
       "      <td>1</td>\n",
       "      <td>2015-01-02</td>\n",
       "      <td>2015-01-02 09:43:45</td>\n",
       "      <td>2015-01-02 16:56:15</td>\n",
       "      <td>2015-01-02 09:43:45</td>\n",
       "      <td>2015-01-02 16:56:15</td>\n",
       "      <td>7.208333</td>\n",
       "    </tr>\n",
       "    <tr>\n",
       "      <th>4411</th>\n",
       "      <td>2</td>\n",
       "      <td>2015-01-02</td>\n",
       "      <td>2015-01-02 10:15:44</td>\n",
       "      <td>2015-01-02 18:22:17</td>\n",
       "      <td>2015-01-02 10:15:44</td>\n",
       "      <td>2015-01-02 18:22:17</td>\n",
       "      <td>8.109167</td>\n",
       "    </tr>\n",
       "    <tr>\n",
       "      <th>4412</th>\n",
       "      <td>3</td>\n",
       "      <td>2015-01-02</td>\n",
       "      <td>2015-01-02 10:17:41</td>\n",
       "      <td>2015-01-02 16:59:14</td>\n",
       "      <td>2015-01-02 10:17:41</td>\n",
       "      <td>2015-01-02 16:59:14</td>\n",
       "      <td>6.692500</td>\n",
       "    </tr>\n",
       "    <tr>\n",
       "      <th>4413</th>\n",
       "      <td>4</td>\n",
       "      <td>2015-01-02</td>\n",
       "      <td>2015-01-02 10:05:06</td>\n",
       "      <td>2015-01-02 17:25:24</td>\n",
       "      <td>2015-01-02 10:05:06</td>\n",
       "      <td>2015-01-02 17:25:24</td>\n",
       "      <td>7.338333</td>\n",
       "    </tr>\n",
       "    <tr>\n",
       "      <th>4414</th>\n",
       "      <td>5</td>\n",
       "      <td>2015-01-02</td>\n",
       "      <td>2015-01-02 10:28:17</td>\n",
       "      <td>2015-01-02 18:31:37</td>\n",
       "      <td>2015-01-02 10:28:17</td>\n",
       "      <td>2015-01-02 18:31:37</td>\n",
       "      <td>8.055556</td>\n",
       "    </tr>\n",
       "  </tbody>\n",
       "</table>\n",
       "</div>"
      ],
      "text/plain": [
       "      EmployeeID        Date               Time_x               Time_y  \\\n",
       "4410           1  2015-01-02  2015-01-02 09:43:45  2015-01-02 16:56:15   \n",
       "4411           2  2015-01-02  2015-01-02 10:15:44  2015-01-02 18:22:17   \n",
       "4412           3  2015-01-02  2015-01-02 10:17:41  2015-01-02 16:59:14   \n",
       "4413           4  2015-01-02  2015-01-02 10:05:06  2015-01-02 17:25:24   \n",
       "4414           5  2015-01-02  2015-01-02 10:28:17  2015-01-02 18:31:37   \n",
       "\n",
       "               in_time_0          out_time_0  time_spent  \n",
       "4410 2015-01-02 09:43:45 2015-01-02 16:56:15    7.208333  \n",
       "4411 2015-01-02 10:15:44 2015-01-02 18:22:17    8.109167  \n",
       "4412 2015-01-02 10:17:41 2015-01-02 16:59:14    6.692500  \n",
       "4413 2015-01-02 10:05:06 2015-01-02 17:25:24    7.338333  \n",
       "4414 2015-01-02 10:28:17 2015-01-02 18:31:37    8.055556  "
      ]
     },
     "execution_count": 36,
     "metadata": {},
     "output_type": "execute_result"
    }
   ],
   "source": [
    "master_time1.head()"
   ]
  },
  {
   "cell_type": "markdown",
   "id": "b76fa084",
   "metadata": {},
   "source": [
    "Keeping just the above created field and aggregating the data on employee level to get mean time spent in the office"
   ]
  },
  {
   "cell_type": "code",
   "execution_count": 37,
   "id": "ea12565b",
   "metadata": {},
   "outputs": [
    {
     "data": {
      "text/html": [
       "<div>\n",
       "<style scoped>\n",
       "    .dataframe tbody tr th:only-of-type {\n",
       "        vertical-align: middle;\n",
       "    }\n",
       "\n",
       "    .dataframe tbody tr th {\n",
       "        vertical-align: top;\n",
       "    }\n",
       "\n",
       "    .dataframe thead th {\n",
       "        text-align: right;\n",
       "    }\n",
       "</style>\n",
       "<table border=\"1\" class=\"dataframe\">\n",
       "  <thead>\n",
       "    <tr style=\"text-align: right;\">\n",
       "      <th></th>\n",
       "      <th>EmployeeID</th>\n",
       "      <th>time_spent</th>\n",
       "    </tr>\n",
       "  </thead>\n",
       "  <tbody>\n",
       "    <tr>\n",
       "      <th>4410</th>\n",
       "      <td>1</td>\n",
       "      <td>7.208333</td>\n",
       "    </tr>\n",
       "    <tr>\n",
       "      <th>4411</th>\n",
       "      <td>2</td>\n",
       "      <td>8.109167</td>\n",
       "    </tr>\n",
       "    <tr>\n",
       "      <th>4412</th>\n",
       "      <td>3</td>\n",
       "      <td>6.692500</td>\n",
       "    </tr>\n",
       "    <tr>\n",
       "      <th>4413</th>\n",
       "      <td>4</td>\n",
       "      <td>7.338333</td>\n",
       "    </tr>\n",
       "    <tr>\n",
       "      <th>4414</th>\n",
       "      <td>5</td>\n",
       "      <td>8.055556</td>\n",
       "    </tr>\n",
       "  </tbody>\n",
       "</table>\n",
       "</div>"
      ],
      "text/plain": [
       "      EmployeeID  time_spent\n",
       "4410           1    7.208333\n",
       "4411           2    8.109167\n",
       "4412           3    6.692500\n",
       "4413           4    7.338333\n",
       "4414           5    8.055556"
      ]
     },
     "execution_count": 37,
     "metadata": {},
     "output_type": "execute_result"
    }
   ],
   "source": [
    "master_time_final = master_time1[['EmployeeID', 'time_spent']]\n",
    "master_time_final.head()"
   ]
  },
  {
   "cell_type": "code",
   "execution_count": 38,
   "id": "da7321e4",
   "metadata": {},
   "outputs": [
    {
     "data": {
      "text/plain": [
       "4410"
      ]
     },
     "execution_count": 38,
     "metadata": {},
     "output_type": "execute_result"
    }
   ],
   "source": [
    "master_time_final['EmployeeID'].nunique()"
   ]
  },
  {
   "cell_type": "code",
   "execution_count": 39,
   "id": "59af7c50",
   "metadata": {},
   "outputs": [
    {
     "data": {
      "text/html": [
       "<div>\n",
       "<style scoped>\n",
       "    .dataframe tbody tr th:only-of-type {\n",
       "        vertical-align: middle;\n",
       "    }\n",
       "\n",
       "    .dataframe tbody tr th {\n",
       "        vertical-align: top;\n",
       "    }\n",
       "\n",
       "    .dataframe thead th {\n",
       "        text-align: right;\n",
       "    }\n",
       "</style>\n",
       "<table border=\"1\" class=\"dataframe\">\n",
       "  <thead>\n",
       "    <tr style=\"text-align: right;\">\n",
       "      <th></th>\n",
       "      <th>EmployeeID</th>\n",
       "      <th>time_spent</th>\n",
       "    </tr>\n",
       "  </thead>\n",
       "  <tbody>\n",
       "    <tr>\n",
       "      <th>0</th>\n",
       "      <td>1</td>\n",
       "      <td>7.373651</td>\n",
       "    </tr>\n",
       "    <tr>\n",
       "      <th>1</th>\n",
       "      <td>2</td>\n",
       "      <td>7.718969</td>\n",
       "    </tr>\n",
       "    <tr>\n",
       "      <th>2</th>\n",
       "      <td>3</td>\n",
       "      <td>7.013240</td>\n",
       "    </tr>\n",
       "    <tr>\n",
       "      <th>3</th>\n",
       "      <td>4</td>\n",
       "      <td>7.193678</td>\n",
       "    </tr>\n",
       "    <tr>\n",
       "      <th>4</th>\n",
       "      <td>5</td>\n",
       "      <td>8.006175</td>\n",
       "    </tr>\n",
       "    <tr>\n",
       "      <th>...</th>\n",
       "      <td>...</td>\n",
       "      <td>...</td>\n",
       "    </tr>\n",
       "    <tr>\n",
       "      <th>4405</th>\n",
       "      <td>4406</td>\n",
       "      <td>8.522277</td>\n",
       "    </tr>\n",
       "    <tr>\n",
       "      <th>4406</th>\n",
       "      <td>4407</td>\n",
       "      <td>6.092954</td>\n",
       "    </tr>\n",
       "    <tr>\n",
       "      <th>4407</th>\n",
       "      <td>4408</td>\n",
       "      <td>7.706632</td>\n",
       "    </tr>\n",
       "    <tr>\n",
       "      <th>4408</th>\n",
       "      <td>4409</td>\n",
       "      <td>9.492595</td>\n",
       "    </tr>\n",
       "    <tr>\n",
       "      <th>4409</th>\n",
       "      <td>4410</td>\n",
       "      <td>6.988948</td>\n",
       "    </tr>\n",
       "  </tbody>\n",
       "</table>\n",
       "<p>4410 rows × 2 columns</p>\n",
       "</div>"
      ],
      "text/plain": [
       "      EmployeeID  time_spent\n",
       "0              1    7.373651\n",
       "1              2    7.718969\n",
       "2              3    7.013240\n",
       "3              4    7.193678\n",
       "4              5    8.006175\n",
       "...          ...         ...\n",
       "4405        4406    8.522277\n",
       "4406        4407    6.092954\n",
       "4407        4408    7.706632\n",
       "4408        4409    9.492595\n",
       "4409        4410    6.988948\n",
       "\n",
       "[4410 rows x 2 columns]"
      ]
     },
     "execution_count": 39,
     "metadata": {},
     "output_type": "execute_result"
    }
   ],
   "source": [
    "#We will find the average time of each employee\n",
    "master_=pd.DataFrame(master_time_final.groupby('EmployeeID').mean(['time_spent'])['time_spent']).reset_index()\n",
    "master_"
   ]
  },
  {
   "cell_type": "markdown",
   "id": "bce9086f",
   "metadata": {},
   "source": [
    "Merging all the datasets to the get a master dataset for further analysis and modeling"
   ]
  },
  {
   "cell_type": "code",
   "execution_count": 40,
   "id": "a2704f91",
   "metadata": {},
   "outputs": [],
   "source": [
    "master_data=pd.merge(pd.merge(pd.merge(manager_survey_data,master_, on='EmployeeID',how='inner'),\n",
    "         employee_survey_data, how='inner',on='EmployeeID'),general_data,how='inner',on='EmployeeID')"
   ]
  },
  {
   "cell_type": "code",
   "execution_count": 41,
   "id": "4cc5141f",
   "metadata": {},
   "outputs": [],
   "source": [
    "# This is created to compare impact of outlier value removal. This has been done at a later stage in the code.  \n",
    "df=master_data['YearsAtCompany'].copy()"
   ]
  },
  {
   "cell_type": "code",
   "execution_count": 42,
   "id": "360ecf04",
   "metadata": {},
   "outputs": [
    {
     "data": {
      "text/html": [
       "<div>\n",
       "<style scoped>\n",
       "    .dataframe tbody tr th:only-of-type {\n",
       "        vertical-align: middle;\n",
       "    }\n",
       "\n",
       "    .dataframe tbody tr th {\n",
       "        vertical-align: top;\n",
       "    }\n",
       "\n",
       "    .dataframe thead th {\n",
       "        text-align: right;\n",
       "    }\n",
       "</style>\n",
       "<table border=\"1\" class=\"dataframe\">\n",
       "  <thead>\n",
       "    <tr style=\"text-align: right;\">\n",
       "      <th></th>\n",
       "      <th>EmployeeID</th>\n",
       "      <th>JobInvolvement</th>\n",
       "      <th>PerformanceRating</th>\n",
       "      <th>time_spent</th>\n",
       "      <th>EnvironmentSatisfaction</th>\n",
       "      <th>JobSatisfaction</th>\n",
       "      <th>WorkLifeBalance</th>\n",
       "      <th>Age</th>\n",
       "      <th>Attrition</th>\n",
       "      <th>BusinessTravel</th>\n",
       "      <th>...</th>\n",
       "      <th>NumCompaniesWorked</th>\n",
       "      <th>Over18</th>\n",
       "      <th>PercentSalaryHike</th>\n",
       "      <th>StandardHours</th>\n",
       "      <th>StockOptionLevel</th>\n",
       "      <th>TotalWorkingYears</th>\n",
       "      <th>TrainingTimesLastYear</th>\n",
       "      <th>YearsAtCompany</th>\n",
       "      <th>YearsSinceLastPromotion</th>\n",
       "      <th>YearsWithCurrManager</th>\n",
       "    </tr>\n",
       "  </thead>\n",
       "  <tbody>\n",
       "    <tr>\n",
       "      <th>0</th>\n",
       "      <td>1</td>\n",
       "      <td>3</td>\n",
       "      <td>3</td>\n",
       "      <td>7.373651</td>\n",
       "      <td>3.0</td>\n",
       "      <td>4.0</td>\n",
       "      <td>2.0</td>\n",
       "      <td>51</td>\n",
       "      <td>No</td>\n",
       "      <td>Travel_Rarely</td>\n",
       "      <td>...</td>\n",
       "      <td>1.0</td>\n",
       "      <td>Y</td>\n",
       "      <td>11</td>\n",
       "      <td>8</td>\n",
       "      <td>0</td>\n",
       "      <td>1.0</td>\n",
       "      <td>6</td>\n",
       "      <td>1</td>\n",
       "      <td>0</td>\n",
       "      <td>0</td>\n",
       "    </tr>\n",
       "    <tr>\n",
       "      <th>1</th>\n",
       "      <td>2</td>\n",
       "      <td>2</td>\n",
       "      <td>4</td>\n",
       "      <td>7.718969</td>\n",
       "      <td>3.0</td>\n",
       "      <td>2.0</td>\n",
       "      <td>4.0</td>\n",
       "      <td>31</td>\n",
       "      <td>Yes</td>\n",
       "      <td>Travel_Frequently</td>\n",
       "      <td>...</td>\n",
       "      <td>0.0</td>\n",
       "      <td>Y</td>\n",
       "      <td>23</td>\n",
       "      <td>8</td>\n",
       "      <td>1</td>\n",
       "      <td>6.0</td>\n",
       "      <td>3</td>\n",
       "      <td>5</td>\n",
       "      <td>1</td>\n",
       "      <td>4</td>\n",
       "    </tr>\n",
       "    <tr>\n",
       "      <th>2</th>\n",
       "      <td>3</td>\n",
       "      <td>3</td>\n",
       "      <td>3</td>\n",
       "      <td>7.013240</td>\n",
       "      <td>2.0</td>\n",
       "      <td>2.0</td>\n",
       "      <td>1.0</td>\n",
       "      <td>32</td>\n",
       "      <td>No</td>\n",
       "      <td>Travel_Frequently</td>\n",
       "      <td>...</td>\n",
       "      <td>1.0</td>\n",
       "      <td>Y</td>\n",
       "      <td>15</td>\n",
       "      <td>8</td>\n",
       "      <td>3</td>\n",
       "      <td>5.0</td>\n",
       "      <td>2</td>\n",
       "      <td>5</td>\n",
       "      <td>0</td>\n",
       "      <td>3</td>\n",
       "    </tr>\n",
       "    <tr>\n",
       "      <th>3</th>\n",
       "      <td>4</td>\n",
       "      <td>2</td>\n",
       "      <td>3</td>\n",
       "      <td>7.193678</td>\n",
       "      <td>4.0</td>\n",
       "      <td>4.0</td>\n",
       "      <td>3.0</td>\n",
       "      <td>38</td>\n",
       "      <td>No</td>\n",
       "      <td>Non-Travel</td>\n",
       "      <td>...</td>\n",
       "      <td>3.0</td>\n",
       "      <td>Y</td>\n",
       "      <td>11</td>\n",
       "      <td>8</td>\n",
       "      <td>3</td>\n",
       "      <td>13.0</td>\n",
       "      <td>5</td>\n",
       "      <td>8</td>\n",
       "      <td>7</td>\n",
       "      <td>5</td>\n",
       "    </tr>\n",
       "    <tr>\n",
       "      <th>4</th>\n",
       "      <td>5</td>\n",
       "      <td>3</td>\n",
       "      <td>3</td>\n",
       "      <td>8.006175</td>\n",
       "      <td>4.0</td>\n",
       "      <td>1.0</td>\n",
       "      <td>3.0</td>\n",
       "      <td>32</td>\n",
       "      <td>No</td>\n",
       "      <td>Travel_Rarely</td>\n",
       "      <td>...</td>\n",
       "      <td>4.0</td>\n",
       "      <td>Y</td>\n",
       "      <td>12</td>\n",
       "      <td>8</td>\n",
       "      <td>2</td>\n",
       "      <td>9.0</td>\n",
       "      <td>2</td>\n",
       "      <td>6</td>\n",
       "      <td>0</td>\n",
       "      <td>4</td>\n",
       "    </tr>\n",
       "  </tbody>\n",
       "</table>\n",
       "<p>5 rows × 30 columns</p>\n",
       "</div>"
      ],
      "text/plain": [
       "   EmployeeID  JobInvolvement  PerformanceRating  time_spent  \\\n",
       "0           1               3                  3    7.373651   \n",
       "1           2               2                  4    7.718969   \n",
       "2           3               3                  3    7.013240   \n",
       "3           4               2                  3    7.193678   \n",
       "4           5               3                  3    8.006175   \n",
       "\n",
       "   EnvironmentSatisfaction  JobSatisfaction  WorkLifeBalance  Age Attrition  \\\n",
       "0                      3.0              4.0              2.0   51        No   \n",
       "1                      3.0              2.0              4.0   31       Yes   \n",
       "2                      2.0              2.0              1.0   32        No   \n",
       "3                      4.0              4.0              3.0   38        No   \n",
       "4                      4.0              1.0              3.0   32        No   \n",
       "\n",
       "      BusinessTravel  ... NumCompaniesWorked  Over18  PercentSalaryHike  \\\n",
       "0      Travel_Rarely  ...                1.0       Y                 11   \n",
       "1  Travel_Frequently  ...                0.0       Y                 23   \n",
       "2  Travel_Frequently  ...                1.0       Y                 15   \n",
       "3         Non-Travel  ...                3.0       Y                 11   \n",
       "4      Travel_Rarely  ...                4.0       Y                 12   \n",
       "\n",
       "  StandardHours  StockOptionLevel TotalWorkingYears  TrainingTimesLastYear  \\\n",
       "0             8                 0               1.0                      6   \n",
       "1             8                 1               6.0                      3   \n",
       "2             8                 3               5.0                      2   \n",
       "3             8                 3              13.0                      5   \n",
       "4             8                 2               9.0                      2   \n",
       "\n",
       "  YearsAtCompany YearsSinceLastPromotion  YearsWithCurrManager  \n",
       "0              1                       0                     0  \n",
       "1              5                       1                     4  \n",
       "2              5                       0                     3  \n",
       "3              8                       7                     5  \n",
       "4              6                       0                     4  \n",
       "\n",
       "[5 rows x 30 columns]"
      ]
     },
     "execution_count": 42,
     "metadata": {},
     "output_type": "execute_result"
    }
   ],
   "source": [
    "master_data.head()"
   ]
  },
  {
   "cell_type": "markdown",
   "id": "aa999f08",
   "metadata": {},
   "source": [
    "##  Converting the Attrition Column into binary variable using Label Encoding"
   ]
  },
  {
   "cell_type": "code",
   "execution_count": 43,
   "id": "2ebe9023",
   "metadata": {},
   "outputs": [],
   "source": [
    "from sklearn.preprocessing import LabelEncoder"
   ]
  },
  {
   "cell_type": "code",
   "execution_count": 44,
   "id": "ec84e228",
   "metadata": {},
   "outputs": [],
   "source": [
    "labelencoder = LabelEncoder()"
   ]
  },
  {
   "cell_type": "code",
   "execution_count": 45,
   "id": "44e3a191",
   "metadata": {},
   "outputs": [
    {
     "data": {
      "text/plain": [
       "0       0\n",
       "1       1\n",
       "2       0\n",
       "3       0\n",
       "4       0\n",
       "       ..\n",
       "4405    0\n",
       "4406    0\n",
       "4407    0\n",
       "4408    0\n",
       "4409    0\n",
       "Name: Attrition, Length: 4410, dtype: int32"
      ]
     },
     "execution_count": 45,
     "metadata": {},
     "output_type": "execute_result"
    }
   ],
   "source": [
    "# Assigning numerical values and storing in another column\n",
    "master_data['Attrition'] = labelencoder.fit_transform(master_data['Attrition'])\n",
    "master_data['Attrition']"
   ]
  },
  {
   "cell_type": "markdown",
   "id": "3c9ec9a7",
   "metadata": {},
   "source": [
    "### Checking the Null values and imputing them if required"
   ]
  },
  {
   "cell_type": "code",
   "execution_count": 46,
   "id": "0bea25cd",
   "metadata": {
    "scrolled": true
   },
   "outputs": [
    {
     "data": {
      "text/plain": [
       "EmployeeID                  0\n",
       "JobInvolvement              0\n",
       "PerformanceRating           0\n",
       "time_spent                  0\n",
       "EnvironmentSatisfaction    25\n",
       "JobSatisfaction            20\n",
       "WorkLifeBalance            38\n",
       "Age                         0\n",
       "Attrition                   0\n",
       "BusinessTravel              0\n",
       "Department                  0\n",
       "DistanceFromHome            0\n",
       "Education                   0\n",
       "EducationField              0\n",
       "EmployeeCount               0\n",
       "Gender                      0\n",
       "JobLevel                    0\n",
       "JobRole                     0\n",
       "MaritalStatus               0\n",
       "MonthlyIncome               0\n",
       "NumCompaniesWorked         19\n",
       "Over18                      0\n",
       "PercentSalaryHike           0\n",
       "StandardHours               0\n",
       "StockOptionLevel            0\n",
       "TotalWorkingYears           9\n",
       "TrainingTimesLastYear       0\n",
       "YearsAtCompany              0\n",
       "YearsSinceLastPromotion     0\n",
       "YearsWithCurrManager        0\n",
       "dtype: int64"
      ]
     },
     "execution_count": 46,
     "metadata": {},
     "output_type": "execute_result"
    }
   ],
   "source": [
    "master_data.isna().sum()"
   ]
  },
  {
   "cell_type": "markdown",
   "id": "4d6a9f4e",
   "metadata": {},
   "source": [
    "There are null values in the columns\n",
    "* NumCompaniesWorked\n",
    "* TotalWorkingYears\n",
    "* EnvironmentSatisfaction\n",
    "* JobSatisfaction\n",
    "* WorkLifeBalance <br>\n",
    "Imputing the median values in place of null values to prevent any data loss"
   ]
  },
  {
   "cell_type": "code",
   "execution_count": 47,
   "id": "19fdca59",
   "metadata": {},
   "outputs": [],
   "source": [
    "master_data['NumCompaniesWorked']=master_data['NumCompaniesWorked'].fillna(master_data['NumCompaniesWorked'].median())\n",
    "master_data['TotalWorkingYears']=master_data['TotalWorkingYears'].fillna(master_data['TotalWorkingYears'].median())\n",
    "master_data['EnvironmentSatisfaction']=master_data['EnvironmentSatisfaction'].fillna(master_data['EnvironmentSatisfaction'].median())\n",
    "master_data['JobSatisfaction']=master_data['JobSatisfaction'].fillna(master_data['JobSatisfaction'].median())\n",
    "master_data['WorkLifeBalance']=master_data['WorkLifeBalance'].fillna(master_data['WorkLifeBalance'].median())"
   ]
  },
  {
   "cell_type": "code",
   "execution_count": 48,
   "id": "0056f0e3",
   "metadata": {},
   "outputs": [
    {
     "data": {
      "text/plain": [
       "EmployeeID                 0\n",
       "JobInvolvement             0\n",
       "PerformanceRating          0\n",
       "time_spent                 0\n",
       "EnvironmentSatisfaction    0\n",
       "JobSatisfaction            0\n",
       "WorkLifeBalance            0\n",
       "Age                        0\n",
       "Attrition                  0\n",
       "BusinessTravel             0\n",
       "Department                 0\n",
       "DistanceFromHome           0\n",
       "Education                  0\n",
       "EducationField             0\n",
       "EmployeeCount              0\n",
       "Gender                     0\n",
       "JobLevel                   0\n",
       "JobRole                    0\n",
       "MaritalStatus              0\n",
       "MonthlyIncome              0\n",
       "NumCompaniesWorked         0\n",
       "Over18                     0\n",
       "PercentSalaryHike          0\n",
       "StandardHours              0\n",
       "StockOptionLevel           0\n",
       "TotalWorkingYears          0\n",
       "TrainingTimesLastYear      0\n",
       "YearsAtCompany             0\n",
       "YearsSinceLastPromotion    0\n",
       "YearsWithCurrManager       0\n",
       "dtype: int64"
      ]
     },
     "execution_count": 48,
     "metadata": {},
     "output_type": "execute_result"
    }
   ],
   "source": [
    "master_data.isna().sum()"
   ]
  },
  {
   "cell_type": "markdown",
   "id": "259a4a5b",
   "metadata": {},
   "source": [
    " # 2. Exploratory Data Analysis"
   ]
  },
  {
   "cell_type": "code",
   "execution_count": 49,
   "id": "43429537",
   "metadata": {},
   "outputs": [
    {
     "data": {
      "text/html": [
       "<div>\n",
       "<style scoped>\n",
       "    .dataframe tbody tr th:only-of-type {\n",
       "        vertical-align: middle;\n",
       "    }\n",
       "\n",
       "    .dataframe tbody tr th {\n",
       "        vertical-align: top;\n",
       "    }\n",
       "\n",
       "    .dataframe thead th {\n",
       "        text-align: right;\n",
       "    }\n",
       "</style>\n",
       "<table border=\"1\" class=\"dataframe\">\n",
       "  <thead>\n",
       "    <tr style=\"text-align: right;\">\n",
       "      <th></th>\n",
       "      <th>EmployeeID</th>\n",
       "      <th>JobInvolvement</th>\n",
       "      <th>PerformanceRating</th>\n",
       "      <th>time_spent</th>\n",
       "      <th>EnvironmentSatisfaction</th>\n",
       "      <th>JobSatisfaction</th>\n",
       "      <th>WorkLifeBalance</th>\n",
       "      <th>Age</th>\n",
       "      <th>Attrition</th>\n",
       "      <th>DistanceFromHome</th>\n",
       "      <th>...</th>\n",
       "      <th>MonthlyIncome</th>\n",
       "      <th>NumCompaniesWorked</th>\n",
       "      <th>PercentSalaryHike</th>\n",
       "      <th>StandardHours</th>\n",
       "      <th>StockOptionLevel</th>\n",
       "      <th>TotalWorkingYears</th>\n",
       "      <th>TrainingTimesLastYear</th>\n",
       "      <th>YearsAtCompany</th>\n",
       "      <th>YearsSinceLastPromotion</th>\n",
       "      <th>YearsWithCurrManager</th>\n",
       "    </tr>\n",
       "  </thead>\n",
       "  <tbody>\n",
       "    <tr>\n",
       "      <th>count</th>\n",
       "      <td>4410.000000</td>\n",
       "      <td>4410.000000</td>\n",
       "      <td>4410.000000</td>\n",
       "      <td>4410.000000</td>\n",
       "      <td>4410.000000</td>\n",
       "      <td>4410.000000</td>\n",
       "      <td>4410.000000</td>\n",
       "      <td>4410.000000</td>\n",
       "      <td>4410.000000</td>\n",
       "      <td>4410.000000</td>\n",
       "      <td>...</td>\n",
       "      <td>4410.000000</td>\n",
       "      <td>4410.000000</td>\n",
       "      <td>4410.000000</td>\n",
       "      <td>4410.0</td>\n",
       "      <td>4410.000000</td>\n",
       "      <td>4410.000000</td>\n",
       "      <td>4410.000000</td>\n",
       "      <td>4410.000000</td>\n",
       "      <td>4410.000000</td>\n",
       "      <td>4410.000000</td>\n",
       "    </tr>\n",
       "    <tr>\n",
       "      <th>mean</th>\n",
       "      <td>2205.500000</td>\n",
       "      <td>2.729932</td>\n",
       "      <td>3.153741</td>\n",
       "      <td>7.700792</td>\n",
       "      <td>2.725170</td>\n",
       "      <td>2.729478</td>\n",
       "      <td>2.763492</td>\n",
       "      <td>36.923810</td>\n",
       "      <td>0.161224</td>\n",
       "      <td>9.192517</td>\n",
       "      <td>...</td>\n",
       "      <td>65029.312925</td>\n",
       "      <td>2.691837</td>\n",
       "      <td>15.209524</td>\n",
       "      <td>8.0</td>\n",
       "      <td>0.793878</td>\n",
       "      <td>11.277324</td>\n",
       "      <td>2.799320</td>\n",
       "      <td>7.008163</td>\n",
       "      <td>2.187755</td>\n",
       "      <td>4.123129</td>\n",
       "    </tr>\n",
       "    <tr>\n",
       "      <th>std</th>\n",
       "      <td>1273.201673</td>\n",
       "      <td>0.711400</td>\n",
       "      <td>0.360742</td>\n",
       "      <td>1.340218</td>\n",
       "      <td>1.089852</td>\n",
       "      <td>1.098904</td>\n",
       "      <td>0.703541</td>\n",
       "      <td>9.133301</td>\n",
       "      <td>0.367780</td>\n",
       "      <td>8.105026</td>\n",
       "      <td>...</td>\n",
       "      <td>47068.888559</td>\n",
       "      <td>2.493912</td>\n",
       "      <td>3.659108</td>\n",
       "      <td>0.0</td>\n",
       "      <td>0.851883</td>\n",
       "      <td>7.774490</td>\n",
       "      <td>1.288978</td>\n",
       "      <td>6.125135</td>\n",
       "      <td>3.221699</td>\n",
       "      <td>3.567327</td>\n",
       "    </tr>\n",
       "    <tr>\n",
       "      <th>min</th>\n",
       "      <td>1.000000</td>\n",
       "      <td>1.000000</td>\n",
       "      <td>3.000000</td>\n",
       "      <td>5.950504</td>\n",
       "      <td>1.000000</td>\n",
       "      <td>1.000000</td>\n",
       "      <td>1.000000</td>\n",
       "      <td>18.000000</td>\n",
       "      <td>0.000000</td>\n",
       "      <td>1.000000</td>\n",
       "      <td>...</td>\n",
       "      <td>10090.000000</td>\n",
       "      <td>0.000000</td>\n",
       "      <td>11.000000</td>\n",
       "      <td>8.0</td>\n",
       "      <td>0.000000</td>\n",
       "      <td>0.000000</td>\n",
       "      <td>0.000000</td>\n",
       "      <td>0.000000</td>\n",
       "      <td>0.000000</td>\n",
       "      <td>0.000000</td>\n",
       "    </tr>\n",
       "    <tr>\n",
       "      <th>25%</th>\n",
       "      <td>1103.250000</td>\n",
       "      <td>2.000000</td>\n",
       "      <td>3.000000</td>\n",
       "      <td>6.673333</td>\n",
       "      <td>2.000000</td>\n",
       "      <td>2.000000</td>\n",
       "      <td>2.000000</td>\n",
       "      <td>30.000000</td>\n",
       "      <td>0.000000</td>\n",
       "      <td>2.000000</td>\n",
       "      <td>...</td>\n",
       "      <td>29110.000000</td>\n",
       "      <td>1.000000</td>\n",
       "      <td>12.000000</td>\n",
       "      <td>8.0</td>\n",
       "      <td>0.000000</td>\n",
       "      <td>6.000000</td>\n",
       "      <td>2.000000</td>\n",
       "      <td>3.000000</td>\n",
       "      <td>0.000000</td>\n",
       "      <td>2.000000</td>\n",
       "    </tr>\n",
       "    <tr>\n",
       "      <th>50%</th>\n",
       "      <td>2205.500000</td>\n",
       "      <td>3.000000</td>\n",
       "      <td>3.000000</td>\n",
       "      <td>7.406761</td>\n",
       "      <td>3.000000</td>\n",
       "      <td>3.000000</td>\n",
       "      <td>3.000000</td>\n",
       "      <td>36.000000</td>\n",
       "      <td>0.000000</td>\n",
       "      <td>7.000000</td>\n",
       "      <td>...</td>\n",
       "      <td>49190.000000</td>\n",
       "      <td>2.000000</td>\n",
       "      <td>14.000000</td>\n",
       "      <td>8.0</td>\n",
       "      <td>1.000000</td>\n",
       "      <td>10.000000</td>\n",
       "      <td>3.000000</td>\n",
       "      <td>5.000000</td>\n",
       "      <td>1.000000</td>\n",
       "      <td>3.000000</td>\n",
       "    </tr>\n",
       "    <tr>\n",
       "      <th>75%</th>\n",
       "      <td>3307.750000</td>\n",
       "      <td>3.000000</td>\n",
       "      <td>3.000000</td>\n",
       "      <td>8.368703</td>\n",
       "      <td>4.000000</td>\n",
       "      <td>4.000000</td>\n",
       "      <td>3.000000</td>\n",
       "      <td>43.000000</td>\n",
       "      <td>0.000000</td>\n",
       "      <td>14.000000</td>\n",
       "      <td>...</td>\n",
       "      <td>83800.000000</td>\n",
       "      <td>4.000000</td>\n",
       "      <td>18.000000</td>\n",
       "      <td>8.0</td>\n",
       "      <td>1.000000</td>\n",
       "      <td>15.000000</td>\n",
       "      <td>3.000000</td>\n",
       "      <td>9.000000</td>\n",
       "      <td>3.000000</td>\n",
       "      <td>7.000000</td>\n",
       "    </tr>\n",
       "    <tr>\n",
       "      <th>max</th>\n",
       "      <td>4410.000000</td>\n",
       "      <td>4.000000</td>\n",
       "      <td>4.000000</td>\n",
       "      <td>11.030960</td>\n",
       "      <td>4.000000</td>\n",
       "      <td>4.000000</td>\n",
       "      <td>4.000000</td>\n",
       "      <td>60.000000</td>\n",
       "      <td>1.000000</td>\n",
       "      <td>29.000000</td>\n",
       "      <td>...</td>\n",
       "      <td>199990.000000</td>\n",
       "      <td>9.000000</td>\n",
       "      <td>25.000000</td>\n",
       "      <td>8.0</td>\n",
       "      <td>3.000000</td>\n",
       "      <td>40.000000</td>\n",
       "      <td>6.000000</td>\n",
       "      <td>40.000000</td>\n",
       "      <td>15.000000</td>\n",
       "      <td>17.000000</td>\n",
       "    </tr>\n",
       "  </tbody>\n",
       "</table>\n",
       "<p>8 rows × 23 columns</p>\n",
       "</div>"
      ],
      "text/plain": [
       "        EmployeeID  JobInvolvement  PerformanceRating   time_spent  \\\n",
       "count  4410.000000     4410.000000        4410.000000  4410.000000   \n",
       "mean   2205.500000        2.729932           3.153741     7.700792   \n",
       "std    1273.201673        0.711400           0.360742     1.340218   \n",
       "min       1.000000        1.000000           3.000000     5.950504   \n",
       "25%    1103.250000        2.000000           3.000000     6.673333   \n",
       "50%    2205.500000        3.000000           3.000000     7.406761   \n",
       "75%    3307.750000        3.000000           3.000000     8.368703   \n",
       "max    4410.000000        4.000000           4.000000    11.030960   \n",
       "\n",
       "       EnvironmentSatisfaction  JobSatisfaction  WorkLifeBalance          Age  \\\n",
       "count              4410.000000      4410.000000      4410.000000  4410.000000   \n",
       "mean                  2.725170         2.729478         2.763492    36.923810   \n",
       "std                   1.089852         1.098904         0.703541     9.133301   \n",
       "min                   1.000000         1.000000         1.000000    18.000000   \n",
       "25%                   2.000000         2.000000         2.000000    30.000000   \n",
       "50%                   3.000000         3.000000         3.000000    36.000000   \n",
       "75%                   4.000000         4.000000         3.000000    43.000000   \n",
       "max                   4.000000         4.000000         4.000000    60.000000   \n",
       "\n",
       "         Attrition  DistanceFromHome  ...  MonthlyIncome  NumCompaniesWorked  \\\n",
       "count  4410.000000       4410.000000  ...    4410.000000         4410.000000   \n",
       "mean      0.161224          9.192517  ...   65029.312925            2.691837   \n",
       "std       0.367780          8.105026  ...   47068.888559            2.493912   \n",
       "min       0.000000          1.000000  ...   10090.000000            0.000000   \n",
       "25%       0.000000          2.000000  ...   29110.000000            1.000000   \n",
       "50%       0.000000          7.000000  ...   49190.000000            2.000000   \n",
       "75%       0.000000         14.000000  ...   83800.000000            4.000000   \n",
       "max       1.000000         29.000000  ...  199990.000000            9.000000   \n",
       "\n",
       "       PercentSalaryHike  StandardHours  StockOptionLevel  TotalWorkingYears  \\\n",
       "count        4410.000000         4410.0       4410.000000        4410.000000   \n",
       "mean           15.209524            8.0          0.793878          11.277324   \n",
       "std             3.659108            0.0          0.851883           7.774490   \n",
       "min            11.000000            8.0          0.000000           0.000000   \n",
       "25%            12.000000            8.0          0.000000           6.000000   \n",
       "50%            14.000000            8.0          1.000000          10.000000   \n",
       "75%            18.000000            8.0          1.000000          15.000000   \n",
       "max            25.000000            8.0          3.000000          40.000000   \n",
       "\n",
       "       TrainingTimesLastYear  YearsAtCompany  YearsSinceLastPromotion  \\\n",
       "count            4410.000000     4410.000000              4410.000000   \n",
       "mean                2.799320        7.008163                 2.187755   \n",
       "std                 1.288978        6.125135                 3.221699   \n",
       "min                 0.000000        0.000000                 0.000000   \n",
       "25%                 2.000000        3.000000                 0.000000   \n",
       "50%                 3.000000        5.000000                 1.000000   \n",
       "75%                 3.000000        9.000000                 3.000000   \n",
       "max                 6.000000       40.000000                15.000000   \n",
       "\n",
       "       YearsWithCurrManager  \n",
       "count           4410.000000  \n",
       "mean               4.123129  \n",
       "std                3.567327  \n",
       "min                0.000000  \n",
       "25%                2.000000  \n",
       "50%                3.000000  \n",
       "75%                7.000000  \n",
       "max               17.000000  \n",
       "\n",
       "[8 rows x 23 columns]"
      ]
     },
     "execution_count": 49,
     "metadata": {},
     "output_type": "execute_result"
    }
   ],
   "source": [
    "master_data.describe()"
   ]
  },
  {
   "cell_type": "markdown",
   "id": "08c5e8fb",
   "metadata": {},
   "source": [
    "## Plots"
   ]
  },
  {
   "cell_type": "code",
   "execution_count": 50,
   "id": "03241c40",
   "metadata": {},
   "outputs": [
    {
     "data": {
      "text/plain": [
       "Index(['EmployeeID', 'JobInvolvement', 'PerformanceRating', 'time_spent',\n",
       "       'EnvironmentSatisfaction', 'JobSatisfaction', 'WorkLifeBalance', 'Age',\n",
       "       'Attrition', 'BusinessTravel', 'Department', 'DistanceFromHome',\n",
       "       'Education', 'EducationField', 'EmployeeCount', 'Gender', 'JobLevel',\n",
       "       'JobRole', 'MaritalStatus', 'MonthlyIncome', 'NumCompaniesWorked',\n",
       "       'Over18', 'PercentSalaryHike', 'StandardHours', 'StockOptionLevel',\n",
       "       'TotalWorkingYears', 'TrainingTimesLastYear', 'YearsAtCompany',\n",
       "       'YearsSinceLastPromotion', 'YearsWithCurrManager'],\n",
       "      dtype='object')"
      ]
     },
     "execution_count": 50,
     "metadata": {},
     "output_type": "execute_result"
    }
   ],
   "source": [
    "master_data.columns"
   ]
  },
  {
   "cell_type": "code",
   "execution_count": 51,
   "id": "5236de56",
   "metadata": {},
   "outputs": [
    {
     "data": {
      "image/png": "[encoded data removed]",
      "text/plain": [
       "<Figure size 720x1440 with 10 Axes>"
      ]
     },
     "metadata": {
      "needs_background": "light"
     },
     "output_type": "display_data"
    }
   ],
   "source": [
    "col_names_hist = ['Age', 'DistanceFromHome','MonthlyIncome',\n",
    "                  'NumCompaniesWorked','PercentSalaryHike',\n",
    "                 'TotalWorkingYears',\n",
    "                 'YearsAtCompany',\n",
    "                 'YearsSinceLastPromotion', 'YearsWithCurrManager',\n",
    "                 'time_spent']\n",
    "\n",
    "master_data1=master_data[col_names_hist]\n",
    "fig1,ax=plt.subplots(nrows=5,ncols=2,figsize=(10,20))\n",
    "ax=ax.flatten()\n",
    "start=0\n",
    "for i,j in master_data1.items():\n",
    "    sns.distplot(j,ax=ax[start])\n",
    "    ax[start].set_ylabel('Frequency')\n",
    "    start+=1\n",
    "fig1.tight_layout(pad =  2.0)"
   ]
  },
  {
   "cell_type": "code",
   "execution_count": 52,
   "id": "1170c761",
   "metadata": {},
   "outputs": [
    {
     "data": {
      "image/png": "[encoded data removed]",
      "text/plain": [
       "<Figure size 864x576 with 10 Axes>"
      ]
     },
     "metadata": {
      "needs_background": "light"
     },
     "output_type": "display_data"
    }
   ],
   "source": [
    "fig2,ax1=plt.subplots(nrows=5,ncols=2,figsize=(12,8),constrained_layout=True)\n",
    "ax1=ax1.flatten()\n",
    "start=0\n",
    "for i,j in master_data1.items():\n",
    "    sns.boxplot(j,ax=ax1[start])\n",
    "    ax1[start].set_ylabel('Frequency')\n",
    "    start+=1\n",
    "fig1.tight_layout(pad =  4.0)"
   ]
  },
  {
   "cell_type": "code",
   "execution_count": 53,
   "id": "9fc1243b",
   "metadata": {},
   "outputs": [],
   "source": [
    "# Barplots\n",
    "#Barplots\n",
    "col_names_bar = ['BusinessTravel','Department',\n",
    "                'Education','EducationField', 'Gender',\n",
    "                'JobLevel', 'JobRole', 'MaritalStatus',\n",
    "                'StockOptionLevel',\n",
    "                'JobInvolvement', 'PerformanceRating','EnvironmentSatisfaction',\n",
    "                'JobSatisfaction','WorkLifeBalance']\n",
    "master_bar=master_data[col_names_bar]"
   ]
  },
  {
   "cell_type": "code",
   "execution_count": 54,
   "id": "bdae9710",
   "metadata": {},
   "outputs": [
    {
     "data": {
      "image/png": "[encoded data removed]",
      "text/plain": [
       "<Figure size 1080x1440 with 14 Axes>"
      ]
     },
     "metadata": {
      "needs_background": "light"
     },
     "output_type": "display_data"
    }
   ],
   "source": [
    "fig3,ax2=plt.subplots(nrows=7,ncols=2,figsize=(15,20),constrained_layout=True)\n",
    "ax2=ax2.flatten()\n",
    "start=0\n",
    "for i,j in master_bar.items():\n",
    "    sns.countplot(y=j,ax=ax2[start])\n",
    "    start+=1\n",
    "fig3.tight_layout(pad =  4.0)"
   ]
  },
  {
   "cell_type": "code",
   "execution_count": 55,
   "id": "6071fa18",
   "metadata": {},
   "outputs": [
    {
     "data": {
      "text/plain": [
       "<AxesSubplot:>"
      ]
     },
     "execution_count": 55,
     "metadata": {},
     "output_type": "execute_result"
    },
    {
     "data": {
      "image/png": "[encoded data removed]",
      "text/plain": [
       "<Figure size 1440x720 with 2 Axes>"
      ]
     },
     "metadata": {
      "needs_background": "light"
     },
     "output_type": "display_data"
    }
   ],
   "source": [
    "#correlation matrix\n",
    "plt.figure(figsize=(20,10))\n",
    "sns.heatmap(master_data.corr(),annot=True,cmap='Blues')\n"
   ]
  },
  {
   "cell_type": "markdown",
   "id": "c9696458",
   "metadata": {},
   "source": [
    "# Key observations from the above table and plots:"
   ]
  },
  {
   "cell_type": "markdown",
   "id": "d72a5837",
   "metadata": {},
   "source": [
    "## Histograms\n",
    "Majority of the variables are right skewed\n",
    "\n",
    "## Boxplots\n",
    "'MonthlyIncome' has very high number of outliers followed by 'TotalWorkingYears'\n",
    "\n",
    "## Barplots\n",
    "\n",
    "* Proportion of male employees is higher than female employees\n",
    "* Majority of the employees are working in Research and Development department\n",
    "* In terms of reviews from employees the company mostly gets a rating of 3 or more\n",
    "\n",
    "# Correlation plot\n",
    "* Below variable pairs are highly correlated\n",
    " * 'PercentSalaryHike' and 'PerformanceRating'\n",
    " * 'Age' and 'TotalWorkingYears'\n",
    " * 'YearsAtCompany' and 'YearsWithCurrManager'"
   ]
  },
  {
   "cell_type": "markdown",
   "id": "76caa8a0",
   "metadata": {},
   "source": [
    "# Z Score Method to remove the outlier Values\n",
    "### Checking columns containing outliers in the above boxplots\n",
    "### Considering Outlier values only if the Z-Score Values are greater than 3"
   ]
  },
  {
   "cell_type": "code",
   "execution_count": 56,
   "id": "bc4e719d",
   "metadata": {},
   "outputs": [],
   "source": [
    "z1 = np.abs(stats.zscore(master_data['MonthlyIncome']))\n",
    "z2 = np.abs(stats.zscore(master_data['TotalWorkingYears']))\n",
    "z3 = np.abs(stats.zscore(master_data['NumCompaniesWorked']))\n",
    "z4 = np.abs(stats.zscore(master_data['YearsAtCompany']))\n",
    "\n",
    "threshold = 3"
   ]
  },
  {
   "cell_type": "code",
   "execution_count": 57,
   "id": "42b92f5b",
   "metadata": {},
   "outputs": [
    {
     "name": "stdout",
     "output_type": "stream",
     "text": [
      "(array([], dtype=int64),)\n"
     ]
    }
   ],
   "source": [
    "print(np.where(z1 > threshold)) \n",
    "# Monthly Income has no outliers"
   ]
  },
  {
   "cell_type": "code",
   "execution_count": 58,
   "id": "1f580fa9",
   "metadata": {},
   "outputs": [
    {
     "name": "stdout",
     "output_type": "stream",
     "text": [
      "(array([  12,  143,  187,  337,  366,  636,  698,  785,  858,  926, 1043,\n",
      "       1143, 1297, 1310, 1338, 1399, 1482, 1613, 1657, 1807, 1836, 2106,\n",
      "       2168, 2255, 2328, 2396, 2513, 2613, 2767, 2780, 2808, 2869, 2952,\n",
      "       3083, 3127, 3277, 3306, 3576, 3638, 3725, 3798, 3866, 3983, 4083,\n",
      "       4237, 4250, 4278, 4339], dtype=int64),)\n"
     ]
    }
   ],
   "source": [
    "print(np.where(z2 > 3)) #Total working years"
   ]
  },
  {
   "cell_type": "code",
   "execution_count": 59,
   "id": "881f25f1",
   "metadata": {},
   "outputs": [
    {
     "data": {
      "text/plain": [
       "count    48.000000\n",
       "mean     18.375000\n",
       "std      12.861992\n",
       "min       5.000000\n",
       "25%       8.500000\n",
       "50%      10.000000\n",
       "75%      32.250000\n",
       "max      40.000000\n",
       "Name: YearsAtCompany, dtype: float64"
      ]
     },
     "execution_count": 59,
     "metadata": {},
     "output_type": "execute_result"
    }
   ],
   "source": [
    "# examining outlier values in total working years\n",
    "master_data.YearsAtCompany.loc[[12,  143,  187,  337,  366,  636,  698,  785,  858,  926, 1043,\n",
    "       1143, 1297, 1310, 1338, 1399, 1482, 1613, 1657, 1807, 1836, 2106,\n",
    "       2168, 2255, 2328, 2396, 2513, 2613, 2767, 2780, 2808, 2869, 2952,\n",
    "       3083, 3127, 3277, 3306, 3576, 3638, 3725, 3798, 3866, 3983, 4083,\n",
    "       4237, 4250, 4278, 4339]].describe()"
   ]
  },
  {
   "cell_type": "code",
   "execution_count": 60,
   "id": "2d736d9c",
   "metadata": {},
   "outputs": [
    {
     "data": {
      "text/plain": [
       "<AxesSubplot:xlabel='YearsAtCompany'>"
      ]
     },
     "execution_count": 60,
     "metadata": {},
     "output_type": "execute_result"
    },
    {
     "data": {
      "image/png": "[encoded data removed]",
      "text/plain": [
       "<Figure size 432x288 with 1 Axes>"
      ]
     },
     "metadata": {
      "needs_background": "light"
     },
     "output_type": "display_data"
    }
   ],
   "source": [
    "sns.boxplot(master_data['YearsAtCompany'])"
   ]
  },
  {
   "cell_type": "markdown",
   "id": "8c4d1347",
   "metadata": {},
   "source": [
    "Even though values of **TotalWorkingyears** are outliers as per Zscore, intuitively they seems alright."
   ]
  },
  {
   "cell_type": "code",
   "execution_count": 61,
   "id": "12626f54",
   "metadata": {},
   "outputs": [
    {
     "name": "stdout",
     "output_type": "stream",
     "text": [
      "(array([], dtype=int64),)\n"
     ]
    }
   ],
   "source": [
    "print(np.where(z3 > 3)) #Number of companies worked #no outliers"
   ]
  },
  {
   "cell_type": "code",
   "execution_count": 62,
   "id": "a4860c27",
   "metadata": {},
   "outputs": [
    {
     "name": "stdout",
     "output_type": "stream",
     "text": [
      "(array([  12,  153,  167,  215,  219,  303,  334,  337,  395,  419,  491,\n",
      "        603,  656,  660,  704,  828,  853,  858,  877,  880, 1274, 1310,\n",
      "       1338, 1402, 1449, 1482, 1623, 1637, 1685, 1689, 1773, 1804, 1807,\n",
      "       1865, 1889, 1961, 2073, 2126, 2130, 2174, 2298, 2323, 2328, 2347,\n",
      "       2350, 2744, 2780, 2808, 2872, 2919, 2952, 3093, 3107, 3155, 3159,\n",
      "       3243, 3274, 3277, 3335, 3359, 3431, 3543, 3596, 3600, 3644, 3768,\n",
      "       3793, 3798, 3817, 3820, 4214, 4250, 4278, 4342, 4389], dtype=int64),)\n"
     ]
    }
   ],
   "source": [
    "print(np.where(z4 > 3)) #years at company"
   ]
  },
  {
   "cell_type": "code",
   "execution_count": 63,
   "id": "b52c7283",
   "metadata": {},
   "outputs": [
    {
     "data": {
      "text/plain": [
       "count    75.000000\n",
       "mean     31.320000\n",
       "std       3.698648\n",
       "min      26.000000\n",
       "25%      29.000000\n",
       "50%      32.000000\n",
       "75%      33.000000\n",
       "max      40.000000\n",
       "Name: YearsAtCompany, dtype: float64"
      ]
     },
     "execution_count": 63,
     "metadata": {},
     "output_type": "execute_result"
    }
   ],
   "source": [
    "# examining outlier values in years at company\n",
    "master_data.YearsAtCompany.loc[[12,  153,  167,  215,  219,  303,  334,  337,  395,  419,  491,\n",
    "        603,  656,  660,  704,  828,  853,  858,  877,  880, 1274, 1310,\n",
    "       1338, 1402, 1449, 1482, 1623, 1637, 1685, 1689, 1773, 1804, 1807,\n",
    "       1865, 1889, 1961, 2073, 2126, 2130, 2174, 2298, 2323, 2328, 2347,\n",
    "       2350, 2744, 2780, 2808, 2872, 2919, 2952, 3093, 3107, 3155, 3159,\n",
    "       3243, 3274, 3277, 3335, 3359, 3431, 3543, 3596, 3600, 3644, 3768,\n",
    "       3793, 3798, 3817, 3820, 4214, 4250, 4278, 4342, 4389]].describe()"
   ]
  },
  {
   "cell_type": "markdown",
   "id": "1f014327",
   "metadata": {},
   "source": [
    "Even though values of **'YearsAtCompany'**are outliers as per Zscore, intuitively they seems alright"
   ]
  },
  {
   "cell_type": "code",
   "execution_count": 64,
   "id": "a6205fc9",
   "metadata": {},
   "outputs": [],
   "source": [
    "Unique_count=pd.DataFrame(master_data.nunique())"
   ]
  },
  {
   "cell_type": "code",
   "execution_count": 65,
   "id": "8aa04369",
   "metadata": {},
   "outputs": [
    {
     "data": {
      "text/html": [
       "<div>\n",
       "<style scoped>\n",
       "    .dataframe tbody tr th:only-of-type {\n",
       "        vertical-align: middle;\n",
       "    }\n",
       "\n",
       "    .dataframe tbody tr th {\n",
       "        vertical-align: top;\n",
       "    }\n",
       "\n",
       "    .dataframe thead th {\n",
       "        text-align: right;\n",
       "    }\n",
       "</style>\n",
       "<table border=\"1\" class=\"dataframe\">\n",
       "  <thead>\n",
       "    <tr style=\"text-align: right;\">\n",
       "      <th></th>\n",
       "      <th>0</th>\n",
       "    </tr>\n",
       "  </thead>\n",
       "  <tbody>\n",
       "    <tr>\n",
       "      <th>EmployeeID</th>\n",
       "      <td>4410</td>\n",
       "    </tr>\n",
       "    <tr>\n",
       "      <th>JobInvolvement</th>\n",
       "      <td>4</td>\n",
       "    </tr>\n",
       "    <tr>\n",
       "      <th>PerformanceRating</th>\n",
       "      <td>2</td>\n",
       "    </tr>\n",
       "    <tr>\n",
       "      <th>time_spent</th>\n",
       "      <td>4410</td>\n",
       "    </tr>\n",
       "    <tr>\n",
       "      <th>EnvironmentSatisfaction</th>\n",
       "      <td>4</td>\n",
       "    </tr>\n",
       "    <tr>\n",
       "      <th>JobSatisfaction</th>\n",
       "      <td>4</td>\n",
       "    </tr>\n",
       "    <tr>\n",
       "      <th>WorkLifeBalance</th>\n",
       "      <td>4</td>\n",
       "    </tr>\n",
       "    <tr>\n",
       "      <th>Age</th>\n",
       "      <td>43</td>\n",
       "    </tr>\n",
       "    <tr>\n",
       "      <th>Attrition</th>\n",
       "      <td>2</td>\n",
       "    </tr>\n",
       "    <tr>\n",
       "      <th>BusinessTravel</th>\n",
       "      <td>3</td>\n",
       "    </tr>\n",
       "    <tr>\n",
       "      <th>Department</th>\n",
       "      <td>3</td>\n",
       "    </tr>\n",
       "    <tr>\n",
       "      <th>DistanceFromHome</th>\n",
       "      <td>29</td>\n",
       "    </tr>\n",
       "    <tr>\n",
       "      <th>Education</th>\n",
       "      <td>5</td>\n",
       "    </tr>\n",
       "    <tr>\n",
       "      <th>EducationField</th>\n",
       "      <td>6</td>\n",
       "    </tr>\n",
       "    <tr>\n",
       "      <th>EmployeeCount</th>\n",
       "      <td>1</td>\n",
       "    </tr>\n",
       "    <tr>\n",
       "      <th>Gender</th>\n",
       "      <td>2</td>\n",
       "    </tr>\n",
       "    <tr>\n",
       "      <th>JobLevel</th>\n",
       "      <td>5</td>\n",
       "    </tr>\n",
       "    <tr>\n",
       "      <th>JobRole</th>\n",
       "      <td>9</td>\n",
       "    </tr>\n",
       "    <tr>\n",
       "      <th>MaritalStatus</th>\n",
       "      <td>3</td>\n",
       "    </tr>\n",
       "    <tr>\n",
       "      <th>MonthlyIncome</th>\n",
       "      <td>1349</td>\n",
       "    </tr>\n",
       "    <tr>\n",
       "      <th>NumCompaniesWorked</th>\n",
       "      <td>10</td>\n",
       "    </tr>\n",
       "    <tr>\n",
       "      <th>Over18</th>\n",
       "      <td>1</td>\n",
       "    </tr>\n",
       "    <tr>\n",
       "      <th>PercentSalaryHike</th>\n",
       "      <td>15</td>\n",
       "    </tr>\n",
       "    <tr>\n",
       "      <th>StandardHours</th>\n",
       "      <td>1</td>\n",
       "    </tr>\n",
       "    <tr>\n",
       "      <th>StockOptionLevel</th>\n",
       "      <td>4</td>\n",
       "    </tr>\n",
       "    <tr>\n",
       "      <th>TotalWorkingYears</th>\n",
       "      <td>40</td>\n",
       "    </tr>\n",
       "    <tr>\n",
       "      <th>TrainingTimesLastYear</th>\n",
       "      <td>7</td>\n",
       "    </tr>\n",
       "    <tr>\n",
       "      <th>YearsAtCompany</th>\n",
       "      <td>37</td>\n",
       "    </tr>\n",
       "    <tr>\n",
       "      <th>YearsSinceLastPromotion</th>\n",
       "      <td>16</td>\n",
       "    </tr>\n",
       "    <tr>\n",
       "      <th>YearsWithCurrManager</th>\n",
       "      <td>18</td>\n",
       "    </tr>\n",
       "  </tbody>\n",
       "</table>\n",
       "</div>"
      ],
      "text/plain": [
       "                            0\n",
       "EmployeeID               4410\n",
       "JobInvolvement              4\n",
       "PerformanceRating           2\n",
       "time_spent               4410\n",
       "EnvironmentSatisfaction     4\n",
       "JobSatisfaction             4\n",
       "WorkLifeBalance             4\n",
       "Age                        43\n",
       "Attrition                   2\n",
       "BusinessTravel              3\n",
       "Department                  3\n",
       "DistanceFromHome           29\n",
       "Education                   5\n",
       "EducationField              6\n",
       "EmployeeCount               1\n",
       "Gender                      2\n",
       "JobLevel                    5\n",
       "JobRole                     9\n",
       "MaritalStatus               3\n",
       "MonthlyIncome            1349\n",
       "NumCompaniesWorked         10\n",
       "Over18                      1\n",
       "PercentSalaryHike          15\n",
       "StandardHours               1\n",
       "StockOptionLevel            4\n",
       "TotalWorkingYears          40\n",
       "TrainingTimesLastYear       7\n",
       "YearsAtCompany             37\n",
       "YearsSinceLastPromotion    16\n",
       "YearsWithCurrManager       18"
      ]
     },
     "execution_count": 65,
     "metadata": {},
     "output_type": "execute_result"
    }
   ],
   "source": [
    "Unique_count"
   ]
  },
  {
   "cell_type": "markdown",
   "id": "374f7587",
   "metadata": {},
   "source": [
    "From above table we observe that below fields have just one unique value and hence they won't provide any distinctive power to the classification\n",
    "\n",
    "* Over18\n",
    "* EmployeeCount\n",
    "* StandardHours\n",
    "* Also, EmployeeID is an ID field and hence will not be required for the classification\n",
    "\n",
    "We will remove these columns before modeling\n",
    "\n"
   ]
  },
  {
   "cell_type": "code",
   "execution_count": 66,
   "id": "ddbcccac",
   "metadata": {},
   "outputs": [],
   "source": [
    "master_data.drop(columns=['Over18','EmployeeCount','StandardHours','EmployeeID'],axis=1,inplace=True)"
   ]
  },
  {
   "cell_type": "code",
   "execution_count": 67,
   "id": "f0c0900d",
   "metadata": {},
   "outputs": [
    {
     "data": {
      "text/plain": [
       "Index(['JobInvolvement', 'PerformanceRating', 'time_spent',\n",
       "       'EnvironmentSatisfaction', 'JobSatisfaction', 'WorkLifeBalance', 'Age',\n",
       "       'Attrition', 'BusinessTravel', 'Department', 'DistanceFromHome',\n",
       "       'Education', 'EducationField', 'Gender', 'JobLevel', 'JobRole',\n",
       "       'MaritalStatus', 'MonthlyIncome', 'NumCompaniesWorked',\n",
       "       'PercentSalaryHike', 'StockOptionLevel', 'TotalWorkingYears',\n",
       "       'TrainingTimesLastYear', 'YearsAtCompany', 'YearsSinceLastPromotion',\n",
       "       'YearsWithCurrManager'],\n",
       "      dtype='object')"
      ]
     },
     "execution_count": 67,
     "metadata": {},
     "output_type": "execute_result"
    }
   ],
   "source": [
    "master_data.columns"
   ]
  },
  {
   "cell_type": "markdown",
   "id": "09198e35",
   "metadata": {},
   "source": [
    "# Model Building"
   ]
  },
  {
   "cell_type": "code",
   "execution_count": 68,
   "id": "db35acb3",
   "metadata": {},
   "outputs": [
    {
     "data": {
      "text/plain": [
       "0    83.877551\n",
       "1    16.122449\n",
       "Name: Attrition, dtype: float64"
      ]
     },
     "execution_count": 68,
     "metadata": {},
     "output_type": "execute_result"
    }
   ],
   "source": [
    "master_data['Attrition'].value_counts(normalize=True)*100"
   ]
  },
  {
   "cell_type": "markdown",
   "id": "932e93e6",
   "metadata": {},
   "source": [
    "16% of the observations are our target for the model\n",
    "\n",
    "For Modeling we need to convert Categorical variables into dummy variables\n",
    "\n"
   ]
  },
  {
   "cell_type": "code",
   "execution_count": 69,
   "id": "a22767ea",
   "metadata": {},
   "outputs": [],
   "source": [
    "def dummy_func(col_name):\n",
    "    x = pd.get_dummies(master_data[col_name],drop_first=True, prefix = col_name, prefix_sep=\"_\")\n",
    "    return x\n",
    "# The dummy function is creating a dataframe for each of categorical variable \n",
    "# with its dummy values in it with name of columns prefixed by the variable name\n",
    "\n",
    "CBusinessTravel = dummy_func('BusinessTravel')\n",
    "CDepartment = dummy_func('Department')\n",
    "CEducationField = dummy_func('EducationField')\n",
    "CGender = dummy_func('Gender')\n",
    "CJobRole = dummy_func('JobRole')\n",
    "CMaritalStatus = dummy_func('MaritalStatus')\n",
    "CEducation = dummy_func('Education')\n",
    "CJobLevel = dummy_func('JobLevel')"
   ]
  },
  {
   "cell_type": "code",
   "execution_count": 70,
   "id": "037a16bd",
   "metadata": {},
   "outputs": [
    {
     "data": {
      "text/html": [
       "<div>\n",
       "<style scoped>\n",
       "    .dataframe tbody tr th:only-of-type {\n",
       "        vertical-align: middle;\n",
       "    }\n",
       "\n",
       "    .dataframe tbody tr th {\n",
       "        vertical-align: top;\n",
       "    }\n",
       "\n",
       "    .dataframe thead th {\n",
       "        text-align: right;\n",
       "    }\n",
       "</style>\n",
       "<table border=\"1\" class=\"dataframe\">\n",
       "  <thead>\n",
       "    <tr style=\"text-align: right;\">\n",
       "      <th></th>\n",
       "      <th>JobInvolvement</th>\n",
       "      <th>PerformanceRating</th>\n",
       "      <th>time_spent</th>\n",
       "      <th>EnvironmentSatisfaction</th>\n",
       "      <th>JobSatisfaction</th>\n",
       "      <th>WorkLifeBalance</th>\n",
       "      <th>Age</th>\n",
       "      <th>Attrition</th>\n",
       "      <th>DistanceFromHome</th>\n",
       "      <th>MonthlyIncome</th>\n",
       "      <th>...</th>\n",
       "      <th>MaritalStatus_Married</th>\n",
       "      <th>MaritalStatus_Single</th>\n",
       "      <th>Education_2</th>\n",
       "      <th>Education_3</th>\n",
       "      <th>Education_4</th>\n",
       "      <th>Education_5</th>\n",
       "      <th>JobLevel_2</th>\n",
       "      <th>JobLevel_3</th>\n",
       "      <th>JobLevel_4</th>\n",
       "      <th>JobLevel_5</th>\n",
       "    </tr>\n",
       "  </thead>\n",
       "  <tbody>\n",
       "    <tr>\n",
       "      <th>0</th>\n",
       "      <td>3</td>\n",
       "      <td>3</td>\n",
       "      <td>7.373651</td>\n",
       "      <td>3.0</td>\n",
       "      <td>4.0</td>\n",
       "      <td>2.0</td>\n",
       "      <td>51</td>\n",
       "      <td>0</td>\n",
       "      <td>6</td>\n",
       "      <td>131160</td>\n",
       "      <td>...</td>\n",
       "      <td>1</td>\n",
       "      <td>0</td>\n",
       "      <td>1</td>\n",
       "      <td>0</td>\n",
       "      <td>0</td>\n",
       "      <td>0</td>\n",
       "      <td>0</td>\n",
       "      <td>0</td>\n",
       "      <td>0</td>\n",
       "      <td>0</td>\n",
       "    </tr>\n",
       "    <tr>\n",
       "      <th>1</th>\n",
       "      <td>2</td>\n",
       "      <td>4</td>\n",
       "      <td>7.718969</td>\n",
       "      <td>3.0</td>\n",
       "      <td>2.0</td>\n",
       "      <td>4.0</td>\n",
       "      <td>31</td>\n",
       "      <td>1</td>\n",
       "      <td>10</td>\n",
       "      <td>41890</td>\n",
       "      <td>...</td>\n",
       "      <td>0</td>\n",
       "      <td>1</td>\n",
       "      <td>0</td>\n",
       "      <td>0</td>\n",
       "      <td>0</td>\n",
       "      <td>0</td>\n",
       "      <td>0</td>\n",
       "      <td>0</td>\n",
       "      <td>0</td>\n",
       "      <td>0</td>\n",
       "    </tr>\n",
       "    <tr>\n",
       "      <th>2</th>\n",
       "      <td>3</td>\n",
       "      <td>3</td>\n",
       "      <td>7.013240</td>\n",
       "      <td>2.0</td>\n",
       "      <td>2.0</td>\n",
       "      <td>1.0</td>\n",
       "      <td>32</td>\n",
       "      <td>0</td>\n",
       "      <td>17</td>\n",
       "      <td>193280</td>\n",
       "      <td>...</td>\n",
       "      <td>1</td>\n",
       "      <td>0</td>\n",
       "      <td>0</td>\n",
       "      <td>0</td>\n",
       "      <td>1</td>\n",
       "      <td>0</td>\n",
       "      <td>0</td>\n",
       "      <td>0</td>\n",
       "      <td>1</td>\n",
       "      <td>0</td>\n",
       "    </tr>\n",
       "  </tbody>\n",
       "</table>\n",
       "<p>3 rows × 46 columns</p>\n",
       "</div>"
      ],
      "text/plain": [
       "   JobInvolvement  PerformanceRating  time_spent  EnvironmentSatisfaction  \\\n",
       "0               3                  3    7.373651                      3.0   \n",
       "1               2                  4    7.718969                      3.0   \n",
       "2               3                  3    7.013240                      2.0   \n",
       "\n",
       "   JobSatisfaction  WorkLifeBalance  Age  Attrition  DistanceFromHome  \\\n",
       "0              4.0              2.0   51          0                 6   \n",
       "1              2.0              4.0   31          1                10   \n",
       "2              2.0              1.0   32          0                17   \n",
       "\n",
       "   MonthlyIncome  ...  MaritalStatus_Married  MaritalStatus_Single  \\\n",
       "0         131160  ...                      1                     0   \n",
       "1          41890  ...                      0                     1   \n",
       "2         193280  ...                      1                     0   \n",
       "\n",
       "   Education_2  Education_3  Education_4  Education_5  JobLevel_2  JobLevel_3  \\\n",
       "0            1            0            0            0           0           0   \n",
       "1            0            0            0            0           0           0   \n",
       "2            0            0            1            0           0           0   \n",
       "\n",
       "   JobLevel_4  JobLevel_5  \n",
       "0           0           0  \n",
       "1           0           0  \n",
       "2           1           0  \n",
       "\n",
       "[3 rows x 46 columns]"
      ]
     },
     "execution_count": 70,
     "metadata": {},
     "output_type": "execute_result"
    }
   ],
   "source": [
    "# We will remove categorical fields from master data and will append dummy variables \n",
    "master_data.drop(['BusinessTravel',\"Department\",\"EducationField\",'Gender','JobRole','MaritalStatus','Education','JobLevel'],axis=1,inplace=True)\n",
    "\n",
    "master_data = pd.concat([master_data,CBusinessTravel,CDepartment,CEducationField,CGender,CJobRole,CMaritalStatus,CEducation,CJobLevel],axis=1)\n",
    "\n",
    "master_data.head(3)\n"
   ]
  },
  {
   "cell_type": "code",
   "execution_count": 71,
   "id": "1cc09ebc",
   "metadata": {},
   "outputs": [],
   "source": [
    "master_data.rename(columns = {\"Department_Research & Development\":\"Department_RnD\"}, \n",
    "                   inplace = True)"
   ]
  },
  {
   "cell_type": "markdown",
   "id": "477d69c4",
   "metadata": {},
   "source": [
    "For modeling we will split our data into training and test set taking 80-20 split respectively"
   ]
  },
  {
   "cell_type": "code",
   "execution_count": 72,
   "id": "f8c3d90f",
   "metadata": {},
   "outputs": [],
   "source": [
    "from sklearn.model_selection import train_test_split\n",
    "x=master_data.drop(['Attrition'],axis=1)\n",
    "y=master_data[['Attrition']]\n",
    "x_train,x_test, y_train,y_test=train_test_split(x,y, test_size=0.2, random_state=221)"
   ]
  },
  {
   "cell_type": "code",
   "execution_count": 73,
   "id": "59fc102a",
   "metadata": {},
   "outputs": [
    {
     "data": {
      "text/plain": [
       "(0    2957\n",
       " 1     571\n",
       " Name: Attrition, dtype: int64,\n",
       " 0    742\n",
       " 1    140\n",
       " Name: Attrition, dtype: int64)"
      ]
     },
     "execution_count": 73,
     "metadata": {},
     "output_type": "execute_result"
    }
   ],
   "source": [
    "y_train['Attrition'].value_counts(), y_test['Attrition'].value_counts() #counts check"
   ]
  },
  {
   "cell_type": "markdown",
   "id": "6eb210ad",
   "metadata": {},
   "source": [
    "# Model 1 \n",
    "# Logistic Regression"
   ]
  },
  {
   "cell_type": "code",
   "execution_count": 74,
   "id": "3d4f48aa",
   "metadata": {},
   "outputs": [
    {
     "data": {
      "text/plain": [
       "LogisticRegression()"
      ]
     },
     "execution_count": 74,
     "metadata": {},
     "output_type": "execute_result"
    }
   ],
   "source": [
    "from sklearn.linear_model import LogisticRegression\n",
    "lgr=LogisticRegression(fit_intercept=True, multi_class='auto', solver='lbfgs')\n",
    "lgr.fit(x_train,y_train)"
   ]
  },
  {
   "cell_type": "code",
   "execution_count": 75,
   "id": "5791aef6",
   "metadata": {},
   "outputs": [
    {
     "name": "stdout",
     "output_type": "stream",
     "text": [
      "[[2914   43]\n",
      " [ 500   71]]\n",
      "[[730  12]\n",
      " [119  21]]\n"
     ]
    }
   ],
   "source": [
    "#confusion matrix\n",
    "from sklearn.metrics import classification_report\n",
    "from sklearn.metrics import confusion_matrix\n",
    "\n",
    "# in-sample prediction\n",
    "y_pred = lgr.predict(x_train)\n",
    "print(confusion_matrix(y_train, y_pred)) #train data\n",
    "\n",
    "#out of sample prediction\n",
    "y_pred_test = lgr.predict(x_test)\n",
    "print(confusion_matrix(y_test, y_pred_test)) #test data"
   ]
  },
  {
   "cell_type": "code",
   "execution_count": 76,
   "id": "46641ff4",
   "metadata": {},
   "outputs": [
    {
     "data": {
      "image/png": "[encoded data removed]",
      "text/plain": [
       "<Figure size 432x288 with 1 Axes>"
      ]
     },
     "metadata": {
      "needs_background": "light"
     },
     "output_type": "display_data"
    }
   ],
   "source": [
    "#ROC curve and AUC\n",
    "from sklearn.metrics import roc_auc_score\n",
    "from sklearn import metrics \n",
    "import matplotlib.pyplot as plt\n",
    "\n",
    "\n",
    "probs0 = lgr.predict_proba(x_test)\n",
    "pred0 = probs0[:,1]\n",
    "fpr0, tpr0, threshold0 = metrics.roc_curve(y_test, pred0)\n",
    "roc_auc0 = metrics.auc(fpr0, tpr0)\n",
    "plt.title('Receiver Operating Characteristic');\n",
    "plt.plot(fpr0, tpr0, 'b', color = 'green', label = 'AUC = %0.2f' % roc_auc0);\n",
    "plt.legend(loc = 'lower right')\n",
    "plt.plot([0, 1], [0, 1],'r--')\n",
    "plt.ylabel('True Positive Rate')\n",
    "plt.xlabel('False Positive Rate')\n",
    "plt.show()"
   ]
  },
  {
   "cell_type": "code",
   "execution_count": 77,
   "id": "91dbbd63",
   "metadata": {},
   "outputs": [
    {
     "name": "stdout",
     "output_type": "stream",
     "text": [
      "In-sample Accuracy: 0.846\n",
      "Out of sample Accuracy: 0.851\n"
     ]
    }
   ],
   "source": [
    "# Model preformance : Logistic Regression\n",
    "from sklearn.metrics import accuracy_score\n",
    "print(\"In-sample Accuracy: \" + str(round(accuracy_score(y_train,y_pred),3)))\n",
    "print(\"Out of sample Accuracy: \" + str(round(accuracy_score(y_test,y_pred_test),3)))"
   ]
  },
  {
   "cell_type": "markdown",
   "id": "2c37f0bb",
   "metadata": {},
   "source": [
    "# Classification Tree"
   ]
  },
  {
   "cell_type": "markdown",
   "id": "89f1e30e",
   "metadata": {},
   "source": [
    "A Classifcation Tree was fitted on the training data with Gini Index as node splitting criteria."
   ]
  },
  {
   "cell_type": "code",
   "execution_count": 78,
   "id": "bc140826",
   "metadata": {},
   "outputs": [
    {
     "data": {
      "text/plain": [
       "DecisionTreeClassifier(random_state=21)"
      ]
     },
     "execution_count": 78,
     "metadata": {},
     "output_type": "execute_result"
    }
   ],
   "source": [
    "# classification tree\n",
    "from sklearn import tree as treee\n",
    "\n",
    "clf = treee.DecisionTreeClassifier(random_state=21)\n",
    "clf.fit(x_train, y_train)"
   ]
  },
  {
   "cell_type": "code",
   "execution_count": 79,
   "id": "f6439d7c",
   "metadata": {},
   "outputs": [
    {
     "name": "stdout",
     "output_type": "stream",
     "text": [
      "[[2957    0]\n",
      " [   0  571]]\n",
      "[[741   1]\n",
      " [  6 134]]\n"
     ]
    }
   ],
   "source": [
    "y_pred_clf = clf.predict(x_train) #in-sample prediction\n",
    "print(confusion_matrix(y_train, y_pred_clf))\n",
    "\n",
    "y_pred_clf_test = clf.predict(x_test) # out-of sample prediction\n",
    "print(confusion_matrix(y_test, y_pred_clf_test))"
   ]
  },
  {
   "cell_type": "code",
   "execution_count": 80,
   "id": "3447d97e",
   "metadata": {},
   "outputs": [
    {
     "name": "stdout",
     "output_type": "stream",
     "text": [
      "In-sample Accuracy: 1.0\n",
      "Out of sample Accuracy: 0.992\n"
     ]
    }
   ],
   "source": [
    "# Model preformance : Classification Tree\n",
    "\n",
    "print(\"In-sample Accuracy: \" + str(round(accuracy_score(y_train,y_pred_clf),3)))\n",
    "print(\"Out of sample Accuracy: \" + str(round(accuracy_score(y_test,y_pred_clf_test),3)))"
   ]
  },
  {
   "cell_type": "code",
   "execution_count": 81,
   "id": "3afdb2e2",
   "metadata": {},
   "outputs": [
    {
     "data": {
      "image/png": "[encoded data removed]",
      "text/plain": [
       "<Figure size 432x288 with 1 Axes>"
      ]
     },
     "metadata": {
      "needs_background": "light"
     },
     "output_type": "display_data"
    }
   ],
   "source": [
    "# ROC Curve and AUC\n",
    "probs1 = clf.predict_proba(x_test)\n",
    "pred1 = probs1[:,1]\n",
    "fpr1, tpr1, threshold1 = metrics.roc_curve(y_test, pred1)\n",
    "roc_auc1 = metrics.auc(fpr1, tpr1)\n",
    "plt.title('Receiver Operating Characteristic');\n",
    "plt.plot(fpr1, tpr1, 'b', color = 'green',label = 'AUC = %0.2f' % roc_auc1);\n",
    "plt.legend(loc = 'lower right')\n",
    "plt.plot([0, 1], [0, 1],'r--')\n",
    "plt.ylabel('True Positive Rate')\n",
    "plt.xlabel('False Positive Rate')\n",
    "plt.show()"
   ]
  },
  {
   "cell_type": "code",
   "execution_count": 82,
   "id": "1880b8f6",
   "metadata": {},
   "outputs": [
    {
     "data": {
      "image/png": "[encoded data removed]",
      "text/plain": [
       "<Figure size 432x288 with 1 Axes>"
      ]
     },
     "metadata": {
      "needs_background": "light"
     },
     "output_type": "display_data"
    }
   ],
   "source": [
    "from sklearn.metrics import accuracy_score, roc_curve, auc, confusion_matrix,recall_score\n",
    "\n",
    "depths = np.linspace(1, 40, 40)\n",
    "train_results = []\n",
    "test_results = []\n",
    "\n",
    "for i in depths:\n",
    "    tree=treee.DecisionTreeClassifier(max_depth=i,random_state=10)\n",
    "    tree.fit(x_train, y_train)\n",
    "    train_pred = tree.predict(x_train)\n",
    "    false_positive_rate, true_positive_rate, thresholds = roc_curve(y_train, train_pred)\n",
    "    roc_auc = auc(false_positive_rate, true_positive_rate)\n",
    "   # Add auc score to previous train results\n",
    "    train_results.append(roc_auc)\n",
    "    y_pred = tree.predict(x_test)\n",
    "    false_positive_rate, true_positive_rate, thresholds = roc_curve(y_test, y_pred)\n",
    "    roc_auc = auc(false_positive_rate, true_positive_rate)\n",
    "   # Add auc score to previous test results\n",
    "    test_results.append(roc_auc)\n",
    "    \n",
    "from matplotlib.legend_handler import HandlerLine2D\n",
    "\n",
    "line1, = plt.plot(depths, train_results,color='b', label='Train AUC')\n",
    "line2, = plt.plot(depths, test_results,color='c', label='Test AUC')\n",
    "\n",
    "plt.legend(handler_map={line1: HandlerLine2D(numpoints=2)})\n",
    "plt.ylabel('AUC score')\n",
    "plt.xlabel('Tree depth')\n",
    "plt.show()"
   ]
  },
  {
   "cell_type": "code",
   "execution_count": 83,
   "id": "df7a6479",
   "metadata": {},
   "outputs": [
    {
     "data": {
      "text/plain": [
       "18"
      ]
     },
     "execution_count": 83,
     "metadata": {},
     "output_type": "execute_result"
    }
   ],
   "source": [
    "int(depths[test_results.index(max(test_results))])"
   ]
  },
  {
   "cell_type": "markdown",
   "id": "044c2000",
   "metadata": {},
   "source": [
    "Max depth of the tree will be set to 19 as it gives best test AUC of ROC curve.\n",
    "\n",
    "Now, we will prune the tree setting max_dept to 19."
   ]
  },
  {
   "cell_type": "code",
   "execution_count": 84,
   "id": "9aee6a85",
   "metadata": {},
   "outputs": [
    {
     "data": {
      "text/plain": [
       "DecisionTreeClassifier(max_depth=18, random_state=21)"
      ]
     },
     "execution_count": 84,
     "metadata": {},
     "output_type": "execute_result"
    }
   ],
   "source": [
    "#pruning the classification tree based on the the above analysis\n",
    "pruned_clf = treee.DecisionTreeClassifier(max_depth = 18, random_state= 21)\n",
    "pruned_clf.fit(x_train, y_train)\n"
   ]
  },
  {
   "cell_type": "code",
   "execution_count": 85,
   "id": "c2a39046",
   "metadata": {},
   "outputs": [
    {
     "data": {
      "image/png": "[encoded data removed]",
      "text/plain": [
       "<Figure size 432x288 with 1 Axes>"
      ]
     },
     "metadata": {
      "needs_background": "light"
     },
     "output_type": "display_data"
    }
   ],
   "source": [
    "#ROC curve and AUC\n",
    "probs2 = pruned_clf.predict_proba(x_test)\n",
    "pred2 = probs1[:,1]\n",
    "fpr2, tpr2, threshold2 = metrics.roc_curve(y_test, pred2)\n",
    "roc_auc2 = metrics.auc(fpr2, tpr2)\n",
    "plt.title('Receiver Operating Characteristic');\n",
    "plt.plot(fpr2, tpr2, 'b', color = 'green', label = 'AUC = %0.2f' % roc_auc2);\n",
    "plt.legend(loc = 'lower right')\n",
    "plt.plot([0, 1], [0, 1],'r--')\n",
    "plt.ylabel('True Positive Rate')\n",
    "plt.xlabel('False Positive Rate')\n",
    "plt.show()\n"
   ]
  },
  {
   "cell_type": "code",
   "execution_count": 86,
   "id": "702317b8",
   "metadata": {},
   "outputs": [
    {
     "name": "stdout",
     "output_type": "stream",
     "text": [
      "[[2957    0]\n",
      " [   0  571]]\n",
      "[[741   1]\n",
      " [  6 134]]\n"
     ]
    }
   ],
   "source": [
    "y_pred_pruned_clf = pruned_clf.predict(x_train) # in sample prediction\n",
    "print(confusion_matrix(y_train, y_pred_pruned_clf))\n",
    "\n",
    "y_pred_pruned_clf_test = pruned_clf.predict(x_test) # out of sample prediction\n",
    "print(confusion_matrix(y_test, y_pred_pruned_clf_test))"
   ]
  },
  {
   "cell_type": "code",
   "execution_count": 87,
   "id": "80e8730e",
   "metadata": {},
   "outputs": [
    {
     "name": "stdout",
     "output_type": "stream",
     "text": [
      "In-sample Accuracy: 1.0\n",
      "Out of sample Accuracy: 0.992\n"
     ]
    }
   ],
   "source": [
    "# Model preformance : Classification Tree after pruning\n",
    "\n",
    "print(\"In-sample Accuracy: \" + str(round(accuracy_score(y_train,y_pred_pruned_clf),3)))\n",
    "print(\"Out of sample Accuracy: \" + str(round(accuracy_score(y_test,y_pred_pruned_clf_test),3)))"
   ]
  },
  {
   "cell_type": "markdown",
   "id": "0bf7b2a1",
   "metadata": {},
   "source": [
    "# Random Forests"
   ]
  },
  {
   "cell_type": "code",
   "execution_count": 88,
   "id": "4dcf8158",
   "metadata": {},
   "outputs": [
    {
     "data": {
      "text/plain": [
       "RandomForestClassifier(max_depth=18, n_estimators=46, random_state=21)"
      ]
     },
     "execution_count": 88,
     "metadata": {},
     "output_type": "execute_result"
    }
   ],
   "source": [
    "# Random Forest\n",
    "from sklearn.ensemble import RandomForestClassifier\n",
    "from sklearn.datasets import make_classification\n",
    "\n",
    "rf = RandomForestClassifier(n_estimators=46, bootstrap = True, max_depth = 18, random_state=21)\n",
    "rf.fit(x_train, y_train.values.ravel())"
   ]
  },
  {
   "cell_type": "code",
   "execution_count": 89,
   "id": "579cd838",
   "metadata": {},
   "outputs": [
    {
     "name": "stdout",
     "output_type": "stream",
     "text": [
      "[[2957    0]\n",
      " [   0  571]]\n",
      "[[742   0]\n",
      " [  6 134]]\n"
     ]
    }
   ],
   "source": [
    "y_pred_rf = rf.predict(x_train) # in sample prediction\n",
    "print(confusion_matrix(y_train, y_pred_rf))\n",
    "\n",
    "y_pred_rf_test = rf.predict(x_test) # out of sample prediction\n",
    "print(confusion_matrix(y_test, y_pred_rf_test))"
   ]
  },
  {
   "cell_type": "code",
   "execution_count": 90,
   "id": "77305a4c",
   "metadata": {},
   "outputs": [
    {
     "name": "stdout",
     "output_type": "stream",
     "text": [
      "In-sample Accuracy: 1.0\n",
      "Out of sample Accuracy: 0.993\n"
     ]
    }
   ],
   "source": [
    "# Model preformance : Classification Tree after pruning\n",
    "\n",
    "print(\"In-sample Accuracy: \" + str(round(accuracy_score(y_train,y_pred_rf),3)))\n",
    "print(\"Out of sample Accuracy: \" + str(round(accuracy_score(y_test,y_pred_rf_test),3)))"
   ]
  },
  {
   "cell_type": "code",
   "execution_count": 91,
   "id": "6b7c81eb",
   "metadata": {},
   "outputs": [
    {
     "data": {
      "image/png": "[encoded data removed]",
      "text/plain": [
       "<Figure size 432x288 with 1 Axes>"
      ]
     },
     "metadata": {
      "needs_background": "light"
     },
     "output_type": "display_data"
    }
   ],
   "source": [
    "#ROC curve and AUC\n",
    "probs3 = rf.predict_proba(x_test)\n",
    "pred3 = probs3[:,1]\n",
    "fpr3, tpr3, threshold3 = metrics.roc_curve(y_test, pred3)\n",
    "roc_auc3 = metrics.auc(fpr3, tpr3)\n",
    "plt.title('Receiver Operating Characteristic');\n",
    "plt.plot(fpr3, tpr3, 'b', color = 'green', label = 'AUC = %0.2f' % roc_auc3);\n",
    "plt.legend(loc = 'lower right')\n",
    "plt.plot([0, 1], [0, 1],'r--')\n",
    "plt.ylabel('True Positive Rate')\n",
    "plt.xlabel('False Positive Rate')\n",
    "plt.show()"
   ]
  },
  {
   "cell_type": "markdown",
   "id": "e3857a71",
   "metadata": {},
   "source": [
    "# Feature Importance Plot"
   ]
  },
  {
   "cell_type": "code",
   "execution_count": 92,
   "id": "1693a5f7",
   "metadata": {},
   "outputs": [
    {
     "data": {
      "text/plain": [
       "<AxesSubplot:>"
      ]
     },
     "execution_count": 92,
     "metadata": {},
     "output_type": "execute_result"
    },
    {
     "data": {
      "image/png": "[encoded data removed]",
      "text/plain": [
       "<Figure size 432x288 with 1 Axes>"
      ]
     },
     "metadata": {
      "needs_background": "light"
     },
     "output_type": "display_data"
    }
   ],
   "source": [
    "#Feature importance plot\n",
    "feat_importances = pd.Series(rf.feature_importances_, index=x_train.columns)\n",
    "feat_importances.nlargest(10).plot(kind='bar', color = \"skyblue\")"
   ]
  },
  {
   "cell_type": "markdown",
   "id": "a0eec7b1",
   "metadata": {},
   "source": [
    "The above feature importance plot gives us the top 10 most significant variables for prediction of employee attrition.\n"
   ]
  },
  {
   "cell_type": "markdown",
   "id": "35d77c38",
   "metadata": {},
   "source": [
    "# Support Vector Machine"
   ]
  },
  {
   "cell_type": "code",
   "execution_count": 93,
   "id": "2c0a903a",
   "metadata": {},
   "outputs": [
    {
     "data": {
      "text/plain": [
       "SVC(gamma='auto', probability=True, random_state=21)"
      ]
     },
     "execution_count": 93,
     "metadata": {},
     "output_type": "execute_result"
    }
   ],
   "source": [
    "from sklearn.svm import SVC\n",
    "svm = SVC(gamma='auto', probability = True, random_state=21)\n",
    "svm.fit(x_train, y_train.values.ravel())"
   ]
  },
  {
   "cell_type": "code",
   "execution_count": 94,
   "id": "7480ac0a",
   "metadata": {},
   "outputs": [
    {
     "name": "stdout",
     "output_type": "stream",
     "text": [
      "[[2957    0]\n",
      " [   0  571]]\n",
      "[[742   0]\n",
      " [  9 131]]\n"
     ]
    }
   ],
   "source": [
    "y_pred_svm = svm.predict(x_train) #in sample prediction\n",
    "print(confusion_matrix(y_train, y_pred_svm))\n",
    "\n",
    "y_pred_svm_test = svm.predict(x_test) #out of sample prediction\n",
    "print(confusion_matrix(y_test, y_pred_svm_test))\n"
   ]
  },
  {
   "cell_type": "code",
   "execution_count": 95,
   "id": "e38c9317",
   "metadata": {},
   "outputs": [
    {
     "name": "stdout",
     "output_type": "stream",
     "text": [
      "In-sample Accuracy: 1.0\n",
      "Out of sample Accuracy: 0.99\n"
     ]
    }
   ],
   "source": [
    "# Model preformance : SVM\n",
    "\n",
    "print(\"In-sample Accuracy: \" + str(round(accuracy_score(y_train,y_pred_svm),3)))\n",
    "print(\"Out of sample Accuracy: \" + str(round(accuracy_score(y_test,y_pred_svm_test),3)))"
   ]
  },
  {
   "cell_type": "code",
   "execution_count": 96,
   "id": "157ea141",
   "metadata": {},
   "outputs": [
    {
     "data": {
      "image/png": "[encoded data removed]",
      "text/plain": [
       "<Figure size 432x288 with 1 Axes>"
      ]
     },
     "metadata": {
      "needs_background": "light"
     },
     "output_type": "display_data"
    }
   ],
   "source": [
    "#ROC\n",
    "#ROC curve and AUC\n",
    "probs4 = svm.predict_proba(x_test)\n",
    "pred4 = probs4[:,1]\n",
    "fpr4, tpr4, threshold4 = metrics.roc_curve(y_test, pred4)\n",
    "roc_auc4 = metrics.auc(fpr4, tpr4)\n",
    "plt.title('Receiver Operating Characteristic');\n",
    "plt.plot(fpr4, tpr4, 'b', color = 'green', label = 'AUC = %0.2f' % roc_auc4);\n",
    "plt.legend(loc = 'lower right')\n",
    "plt.plot([0, 1], [0, 1],'r--')\n",
    "plt.ylabel('True Positive Rate')\n",
    "plt.xlabel('False Positive Rate')\n",
    "plt.show()"
   ]
  },
  {
   "cell_type": "markdown",
   "id": "858f4bb0",
   "metadata": {},
   "source": [
    "# Model Summary Table"
   ]
  },
  {
   "cell_type": "code",
   "execution_count": 97,
   "id": "87ad968d",
   "metadata": {},
   "outputs": [],
   "source": [
    "df=pd.DataFrame({'Model':['Logistic Regression','Classification Tree','Random Forest','Support Vector Machines'],\n",
    "                'In-Sample-Accuracy':[0.846,1,1,1],'Out-Sample-Accuracy':[0.851,0.992,0.993,0.990],\n",
    "                 'AUC of ROC Curve':[0.78,0.98,1,1]})"
   ]
  },
  {
   "cell_type": "code",
   "execution_count": 98,
   "id": "28e4fc0d",
   "metadata": {},
   "outputs": [
    {
     "data": {
      "text/html": [
       "<div>\n",
       "<style scoped>\n",
       "    .dataframe tbody tr th:only-of-type {\n",
       "        vertical-align: middle;\n",
       "    }\n",
       "\n",
       "    .dataframe tbody tr th {\n",
       "        vertical-align: top;\n",
       "    }\n",
       "\n",
       "    .dataframe thead th {\n",
       "        text-align: right;\n",
       "    }\n",
       "</style>\n",
       "<table border=\"1\" class=\"dataframe\">\n",
       "  <thead>\n",
       "    <tr style=\"text-align: right;\">\n",
       "      <th></th>\n",
       "      <th>Model</th>\n",
       "      <th>In-Sample-Accuracy</th>\n",
       "      <th>Out-Sample-Accuracy</th>\n",
       "      <th>AUC of ROC Curve</th>\n",
       "    </tr>\n",
       "  </thead>\n",
       "  <tbody>\n",
       "    <tr>\n",
       "      <th>0</th>\n",
       "      <td>Logistic Regression</td>\n",
       "      <td>0.846</td>\n",
       "      <td>0.851</td>\n",
       "      <td>0.78</td>\n",
       "    </tr>\n",
       "    <tr>\n",
       "      <th>1</th>\n",
       "      <td>Classification Tree</td>\n",
       "      <td>1.000</td>\n",
       "      <td>0.992</td>\n",
       "      <td>0.98</td>\n",
       "    </tr>\n",
       "    <tr>\n",
       "      <th>2</th>\n",
       "      <td>Random Forest</td>\n",
       "      <td>1.000</td>\n",
       "      <td>0.993</td>\n",
       "      <td>1.00</td>\n",
       "    </tr>\n",
       "    <tr>\n",
       "      <th>3</th>\n",
       "      <td>Support Vector Machines</td>\n",
       "      <td>1.000</td>\n",
       "      <td>0.990</td>\n",
       "      <td>1.00</td>\n",
       "    </tr>\n",
       "  </tbody>\n",
       "</table>\n",
       "</div>"
      ],
      "text/plain": [
       "                     Model  In-Sample-Accuracy  Out-Sample-Accuracy  \\\n",
       "0      Logistic Regression               0.846                0.851   \n",
       "1      Classification Tree               1.000                0.992   \n",
       "2            Random Forest               1.000                0.993   \n",
       "3  Support Vector Machines               1.000                0.990   \n",
       "\n",
       "   AUC of ROC Curve  \n",
       "0              0.78  \n",
       "1              0.98  \n",
       "2              1.00  \n",
       "3              1.00  "
      ]
     },
     "execution_count": 98,
     "metadata": {},
     "output_type": "execute_result"
    }
   ],
   "source": [
    "df"
   ]
  },
  {
   "cell_type": "markdown",
   "id": "d05bcdc2",
   "metadata": {},
   "source": [
    "It is evident from the summary table that Random Forest is the best performing model. \n",
    "\n",
    "## We recommend Random Forests for Employee Atrrition predictions."
   ]
  },
  {
   "cell_type": "markdown",
   "id": "f461515c",
   "metadata": {},
   "source": [
    "# Conclusion"
   ]
  },
  {
   "cell_type": "markdown",
   "id": "d5343b46",
   "metadata": {},
   "source": [
    "After data analysis of the Employee Attrition datasets, it was observed that 'Total time spent in the office', 'age', 'total working years', 'years at company', 'monthly salary', 'distance from home', 'percent salary hike', 'number of companies worked at' and 'environment satisfaction' are the key parameters that decide whether an employee will leave the company."
   ]
  }
 ],
 "metadata": {
  "kernelspec": {
   "display_name": "Python 3 (ipykernel)",
   "language": "python",
   "name": "python3"
  },
  "language_info": {
   "codemirror_mode": {
    "name": "ipython",
    "version": 3
   },
   "file_extension": ".py",
   "mimetype": "text/x-python",
   "name": "python",
   "nbconvert_exporter": "python",
   "pygments_lexer": "ipython3",
   "version": "3.9.7"
  }
 },
 "nbformat": 4,
 "nbformat_minor": 5
}
